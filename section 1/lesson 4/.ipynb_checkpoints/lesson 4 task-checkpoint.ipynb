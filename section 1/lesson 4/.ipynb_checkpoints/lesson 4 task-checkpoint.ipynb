{
 "cells": [
  {
   "cell_type": "markdown",
   "id": "e42e0fa6",
   "metadata": {},
   "source": [
    "> В этом уроке\n",
    "\n",
    "Все задания этом уроке необходимо выполнять в том порядке, в котором они идут в LMS.\n",
    "\n",
    "В четвертом уроке задания будут разбиты на 4 блока:\n",
    "\n",
    "1. Markdown. Сначала мы научимся работать с Markdown, используя jupyter notebook.\n",
    "\n",
    "2. Ошибки в коде. Здесь мы поработаем с чужим кодом, отредактируем и запустим его.\n",
    "\n",
    "3. Numpy. Мы сравненим время работы цикла for и функции из библиотеки numpy для вычислении скалярного произведения векторов.\n",
    "\n",
    "4. Непонятная [*]. В заключение, мы столкнемся с зависающим кодом и применим наши знания о ядрах jupyter для решения проблемы."
   ]
  },
  {
   "cell_type": "markdown",
   "id": "abd41ffa",
   "metadata": {},
   "source": [
    "# 1 \n",
    "> Создаем ноутбук в jupyter и учимся работать с Markdown\n",
    "\n",
    "Установите jupyter у себя на компьютере. Откройте его, затем создайте ноутбук.\n",
    "\n",
    "В ноутбуке создайте несколько ячеек: с markdown-разметкой и с кодом. В markdown-ячейке воспользуйтесь синтаксисом для полужирного текста, курсива и monospace.\n",
    "\n",
    "Когда будете готовы, загрузите свой ноутбук ниже."
   ]
  },
  {
   "cell_type": "markdown",
   "id": "1bbddd34",
   "metadata": {},
   "source": [
    "текст *курсив* **полужирный** `code`"
   ]
  },
  {
   "cell_type": "code",
   "execution_count": null,
   "id": "8bcf40e7",
   "metadata": {},
   "outputs": [],
   "source": []
  },
  {
   "cell_type": "markdown",
   "id": "4a96ce55",
   "metadata": {},
   "source": [
    "# 5\n",
    "> Применяем магические команды jupyter\n",
    "\n",
    "Реализуйте скалярное произведение двух векторов размера 1e5 через цикл for в ноутбуке и замерьте скорость выполнения кода с использованием магической команды %%timeit. Используйте для быстрой генерации вектора такой трюк: `vec1 = list(range(int(1e5)))`.\n",
    "\n",
    "Рекомендуем скалярное произведение обернуть в функцию.\n",
    "\n",
    "Сколько секунд отрабатывала ваша функция?"
   ]
  },
  {
   "cell_type": "code",
   "execution_count": 27,
   "id": "af44d554",
   "metadata": {
    "ExecuteTime": {
     "end_time": "2023-06-10T12:51:49.869411Z",
     "start_time": "2023-06-10T12:51:49.861309Z"
    }
   },
   "outputs": [],
   "source": [
    "vec1 = list(range(int(1e5)))"
   ]
  },
  {
   "cell_type": "code",
   "execution_count": null,
   "id": "e53e4485",
   "metadata": {
    "ExecuteTime": {
     "end_time": "2023-06-10T12:51:54.726539Z",
     "start_time": "2023-06-10T12:51:54.707691Z"
    }
   },
   "outputs": [],
   "source": []
  },
  {
   "cell_type": "code",
   "execution_count": 11,
   "id": "ffded893",
   "metadata": {
    "ExecuteTime": {
     "end_time": "2023-06-10T12:44:45.529609Z",
     "start_time": "2023-06-10T12:44:40.204985Z"
    }
   },
   "outputs": [
    {
     "name": "stdout",
     "output_type": "stream",
     "text": [
      "6.51 ms ± 33.2 µs per loop (mean ± std. dev. of 7 runs, 100 loops each)\n"
     ]
    }
   ],
   "source": [
    "%%timeit\n",
    "sum_vec = 0\n",
    "for i in range(len(vec1)):\n",
    "    sum_vec += vec1[i] * vec1[i]\n"
   ]
  },
  {
   "cell_type": "code",
   "execution_count": 10,
   "id": "c6c4f726",
   "metadata": {
    "ExecuteTime": {
     "end_time": "2023-06-10T12:44:35.308165Z",
     "start_time": "2023-06-10T12:44:35.305040Z"
    }
   },
   "outputs": [
    {
     "name": "stdout",
     "output_type": "stream",
     "text": [
      "3.33e+14\n"
     ]
    }
   ],
   "source": [
    "scientific_notation=\"{:.2e}\".format(sum_vec)\n",
    "print(scientific_notation)"
   ]
  },
  {
   "cell_type": "markdown",
   "id": "68088853",
   "metadata": {},
   "source": [
    "# 7\n",
    "> Замеряем время работы функций в Numpy\n",
    "\n",
    "Теперь подключите библиотеку numpy, оберните списки, созданные на степе 5, в np.array(), затем воспользуйтесь встроенной функцией np.dot() для их скалярного произведения. Замерьте время выполнения кода через %%timeit. Какое оно стало?"
   ]
  },
  {
   "cell_type": "code",
   "execution_count": 13,
   "id": "1e54ca59",
   "metadata": {
    "ExecuteTime": {
     "end_time": "2023-06-10T12:47:03.778473Z",
     "start_time": "2023-06-10T12:47:03.675608Z"
    }
   },
   "outputs": [],
   "source": [
    "import numpy as np"
   ]
  },
  {
   "cell_type": "code",
   "execution_count": 29,
   "id": "aeb863bd",
   "metadata": {
    "ExecuteTime": {
     "end_time": "2023-06-10T12:52:07.735906Z",
     "start_time": "2023-06-10T12:52:07.716216Z"
    }
   },
   "outputs": [],
   "source": [
    "vec1 = np.array(range(int(1e5)))"
   ]
  },
  {
   "cell_type": "code",
   "execution_count": 30,
   "id": "fbf342a0",
   "metadata": {
    "ExecuteTime": {
     "end_time": "2023-06-10T12:52:13.771597Z",
     "start_time": "2023-06-10T12:52:10.902083Z"
    }
   },
   "outputs": [
    {
     "name": "stdout",
     "output_type": "stream",
     "text": [
      "34.8 µs ± 89.1 ns per loop (mean ± std. dev. of 7 runs, 10,000 loops each)\n"
     ]
    }
   ],
   "source": [
    "%%timeit\n",
    "sum_vec = np.dot(vec1,vec1)"
   ]
  },
  {
   "cell_type": "code",
   "execution_count": null,
   "id": "17ecffdd",
   "metadata": {
    "ExecuteTime": {
     "end_time": "2023-06-10T12:50:22.832480Z",
     "start_time": "2023-06-10T12:50:22.813984Z"
    }
   },
   "outputs": [],
   "source": []
  },
  {
   "cell_type": "code",
   "execution_count": 31,
   "id": "f8a2ac45",
   "metadata": {
    "ExecuteTime": {
     "end_time": "2023-06-10T12:52:33.958547Z",
     "start_time": "2023-06-10T12:52:33.952103Z"
    }
   },
   "outputs": [
    {
     "data": {
      "text/plain": [
       "333328333350000"
      ]
     },
     "execution_count": 31,
     "metadata": {},
     "output_type": "execute_result"
    }
   ],
   "source": [
    "sum_vec"
   ]
  },
  {
   "cell_type": "code",
   "execution_count": null,
   "id": "f290e006",
   "metadata": {},
   "outputs": [],
   "source": []
  }
 ],
 "metadata": {
  "kernelspec": {
   "display_name": "Python 3 (ipykernel)",
   "language": "python",
   "name": "python3"
  },
  "language_info": {
   "codemirror_mode": {
    "name": "ipython",
    "version": 3
   },
   "file_extension": ".py",
   "mimetype": "text/x-python",
   "name": "python",
   "nbconvert_exporter": "python",
   "pygments_lexer": "ipython3",
   "version": "3.10.9"
  }
 },
 "nbformat": 4,
 "nbformat_minor": 5
}
