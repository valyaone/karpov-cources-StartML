{
 "cells": [
  {
   "cell_type": "code",
   "execution_count": 1,
   "id": "ea5e28ef",
   "metadata": {
    "ExecuteTime": {
     "end_time": "2023-06-13T09:06:42.559560Z",
     "start_time": "2023-06-13T09:06:41.794265Z"
    }
   },
   "outputs": [],
   "source": [
    "import pandas as pd"
   ]
  },
  {
   "cell_type": "markdown",
   "id": "d9f6bdfc",
   "metadata": {},
   "source": [
    "В заданиях этого урока нам предстоит проанализировать данные об американских закусочных. Мы поищем, где можно купить тако в Калифорнии, в какие месяцы чаще всего открывали рестораны и разберем, какие есть подводные камни при работе с `pandas`.\n",
    "\n",
    "Данные можно скачать по ссылке.\n",
    "\n",
    "Описание данных:\n",
    "\n",
    "- `id` - уникальный идентификатор заведения\n",
    "\n",
    "- `address` - физический адрес заведения\n",
    "\n",
    "- `categories` - категории заведения (например, `\"Fast food restaurant\"`).\n",
    "\n",
    "- `city` - город, в котором заведение находится.\n",
    "\n",
    "- `cuisines` - кухни, которые практикуются в заведении. Например `\"Mexican\"`.\n",
    "\n",
    "- `dateAdded` - дата добавления записи. Будем считать, что она совпадает с датой открытия заведения.\n",
    "\n",
    "- `dateUpdated` - дата обновления информации о заведении.\n",
    "\n",
    "- `latitude` - географическая широта.\n",
    "\n",
    "- `longitude` - географическая долгота.\n",
    "\n",
    "- `menus.category` - категории пищи в меню.\n",
    "\n",
    "- `menus.currency` - валюта, в которой принимают оплату.\n",
    "\n",
    "- `menus.dateSeen` - дата, когда было заведено это меню.\n",
    "\n",
    "- `menus.description` - описание меню от заведения.\n",
    "\n",
    "- `menus.name` - название меню.\n",
    "\n",
    "- `name` - название заведения.\n",
    "\n",
    "- `province` - область (штат), где находится заведение."
   ]
  },
  {
   "cell_type": "code",
   "execution_count": 2,
   "id": "a2cca0eb",
   "metadata": {
    "ExecuteTime": {
     "end_time": "2023-06-13T09:07:17.388804Z",
     "start_time": "2023-06-13T09:07:17.124880Z"
    }
   },
   "outputs": [],
   "source": [
    "df = pd.read_csv('data.csv')"
   ]
  },
  {
   "cell_type": "code",
   "execution_count": 46,
   "id": "1bd09d3e",
   "metadata": {
    "ExecuteTime": {
     "end_time": "2023-06-13T18:55:42.946115Z",
     "start_time": "2023-06-13T18:55:42.942244Z"
    }
   },
   "outputs": [],
   "source": [
    "data = df"
   ]
  },
  {
   "cell_type": "markdown",
   "id": "07be3722",
   "metadata": {},
   "source": [
    "# 2\n",
    "В качестве первого шага давайте посмотрим на наши данные c помощью метода `head()`\n",
    "\n",
    "Перечислите первые три значения колонки `dateAdded` через запятую и пробел в том порядке, в котором они были выведены. Например:\n",
    "\n",
    "`2000-01-01T00:00:00Z, 2001-01-01T00:00:00Z, 2002-01-01T00:00:00Z`"
   ]
  },
  {
   "cell_type": "code",
   "execution_count": 45,
   "id": "46100b72",
   "metadata": {
    "ExecuteTime": {
     "end_time": "2023-06-13T18:48:17.504965Z",
     "start_time": "2023-06-13T18:48:17.486569Z"
    }
   },
   "outputs": [
    {
     "data": {
      "text/html": [
       "<div>\n",
       "<style scoped>\n",
       "    .dataframe tbody tr th:only-of-type {\n",
       "        vertical-align: middle;\n",
       "    }\n",
       "\n",
       "    .dataframe tbody tr th {\n",
       "        vertical-align: top;\n",
       "    }\n",
       "\n",
       "    .dataframe thead th {\n",
       "        text-align: right;\n",
       "    }\n",
       "</style>\n",
       "<table border=\"1\" class=\"dataframe\">\n",
       "  <thead>\n",
       "    <tr style=\"text-align: right;\">\n",
       "      <th></th>\n",
       "      <th>id</th>\n",
       "      <th>address</th>\n",
       "      <th>categories</th>\n",
       "      <th>city</th>\n",
       "      <th>cuisines</th>\n",
       "      <th>dateAdded</th>\n",
       "      <th>dateUpdated</th>\n",
       "      <th>latitude</th>\n",
       "      <th>longitude</th>\n",
       "      <th>menus.category</th>\n",
       "      <th>menus.currency</th>\n",
       "      <th>menus.dateSeen</th>\n",
       "      <th>menus.description</th>\n",
       "      <th>menus.name</th>\n",
       "      <th>name</th>\n",
       "      <th>province</th>\n",
       "    </tr>\n",
       "  </thead>\n",
       "  <tbody>\n",
       "    <tr>\n",
       "      <th>0</th>\n",
       "      <td>AVwc__cikufWRAb51QjV</td>\n",
       "      <td>610 Commercial St</td>\n",
       "      <td>Restaurant Delivery Service,Restaurants,Pizza,...</td>\n",
       "      <td>Atchison</td>\n",
       "      <td>Restaurant Delivery Service</td>\n",
       "      <td>2016-03-02T11:49:34Z</td>\n",
       "      <td>2017-02-01T18:04:44Z</td>\n",
       "      <td>39.561570</td>\n",
       "      <td>-95.121020</td>\n",
       "      <td>NaN</td>\n",
       "      <td>NaN</td>\n",
       "      <td>2017-02-01T18:04:44Z</td>\n",
       "      <td>NaN</td>\n",
       "      <td>Taco</td>\n",
       "      <td>Gambino's Pizza</td>\n",
       "      <td>KS</td>\n",
       "    </tr>\n",
       "    <tr>\n",
       "      <th>1</th>\n",
       "      <td>AVwc__cikufWRAb51QjV</td>\n",
       "      <td>610 Commercial St</td>\n",
       "      <td>Restaurant Delivery Service,Restaurants,Pizza,...</td>\n",
       "      <td>Atchison</td>\n",
       "      <td>Restaurant Delivery Service</td>\n",
       "      <td>2016-03-02T11:49:34Z</td>\n",
       "      <td>2017-02-01T18:04:44Z</td>\n",
       "      <td>39.561570</td>\n",
       "      <td>-95.121020</td>\n",
       "      <td>NaN</td>\n",
       "      <td>NaN</td>\n",
       "      <td>2016-03-02T11:49:34Z</td>\n",
       "      <td>Beef, onion, cheddar cheese, lettuce,  refried...</td>\n",
       "      <td>Taco</td>\n",
       "      <td>Gambino's Pizza</td>\n",
       "      <td>KS</td>\n",
       "    </tr>\n",
       "    <tr>\n",
       "      <th>2</th>\n",
       "      <td>AVwc__dF_7pvs4fz1Ncy</td>\n",
       "      <td>9521 Morton Davis Dr</td>\n",
       "      <td>Golf Course, American Restaurant, and Resort</td>\n",
       "      <td>Patterson</td>\n",
       "      <td>NaN</td>\n",
       "      <td>2016-10-14T01:58:25Z</td>\n",
       "      <td>2016-10-14T01:58:25Z</td>\n",
       "      <td>37.401855</td>\n",
       "      <td>-121.266703</td>\n",
       "      <td>NaN</td>\n",
       "      <td>NaN</td>\n",
       "      <td>2016-10-14T01:58:25Z</td>\n",
       "      <td>Beef barbacoa or chicken, spanish rice, pico d...</td>\n",
       "      <td>Smotherd Burrito</td>\n",
       "      <td>Diablo Grande Golf &amp; Country Club</td>\n",
       "      <td>Grayson</td>\n",
       "    </tr>\n",
       "    <tr>\n",
       "      <th>3</th>\n",
       "      <td>AVwc__kCByjofQCxkdm-</td>\n",
       "      <td>10550 W I 25 Frontage Rd</td>\n",
       "      <td>Fast Food Restaurant</td>\n",
       "      <td>Longmont</td>\n",
       "      <td>NaN</td>\n",
       "      <td>2016-09-09T17:30:34Z</td>\n",
       "      <td>2016-10-04T05:15:17Z</td>\n",
       "      <td>NaN</td>\n",
       "      <td>NaN</td>\n",
       "      <td>NaN</td>\n",
       "      <td>NaN</td>\n",
       "      <td>2016-09-09T17:30:34Z</td>\n",
       "      <td>NaN</td>\n",
       "      <td>Sausage Burrito</td>\n",
       "      <td>Mcdonald's</td>\n",
       "      <td>Niwot</td>\n",
       "    </tr>\n",
       "    <tr>\n",
       "      <th>4</th>\n",
       "      <td>AVwc__WtByjofQCxkdkR</td>\n",
       "      <td>8495 W 3rd St</td>\n",
       "      <td>Mexican Restaurant Mid-City West,Mexican Resta...</td>\n",
       "      <td>Los Angeles</td>\n",
       "      <td>Mexican</td>\n",
       "      <td>2016-05-19T11:50:25Z</td>\n",
       "      <td>2016-09-11T00:06:37Z</td>\n",
       "      <td>34.080724</td>\n",
       "      <td>-118.389578</td>\n",
       "      <td>NaN</td>\n",
       "      <td>NaN</td>\n",
       "      <td>2016-05-19T11:50:25Z</td>\n",
       "      <td>Wahoo, avocado, cabbage, pico de gallo  and av...</td>\n",
       "      <td>Wahoo Tacogrilled</td>\n",
       "      <td>Baja Fresh Mexican Grill</td>\n",
       "      <td>Bicentennial</td>\n",
       "    </tr>\n",
       "  </tbody>\n",
       "</table>\n",
       "</div>"
      ],
      "text/plain": [
       "                     id                   address  \\\n",
       "0  AVwc__cikufWRAb51QjV         610 Commercial St   \n",
       "1  AVwc__cikufWRAb51QjV         610 Commercial St   \n",
       "2  AVwc__dF_7pvs4fz1Ncy      9521 Morton Davis Dr   \n",
       "3  AVwc__kCByjofQCxkdm-  10550 W I 25 Frontage Rd   \n",
       "4  AVwc__WtByjofQCxkdkR             8495 W 3rd St   \n",
       "\n",
       "                                          categories         city  \\\n",
       "0  Restaurant Delivery Service,Restaurants,Pizza,...     Atchison   \n",
       "1  Restaurant Delivery Service,Restaurants,Pizza,...     Atchison   \n",
       "2       Golf Course, American Restaurant, and Resort    Patterson   \n",
       "3                               Fast Food Restaurant     Longmont   \n",
       "4  Mexican Restaurant Mid-City West,Mexican Resta...  Los Angeles   \n",
       "\n",
       "                      cuisines             dateAdded           dateUpdated  \\\n",
       "0  Restaurant Delivery Service  2016-03-02T11:49:34Z  2017-02-01T18:04:44Z   \n",
       "1  Restaurant Delivery Service  2016-03-02T11:49:34Z  2017-02-01T18:04:44Z   \n",
       "2                          NaN  2016-10-14T01:58:25Z  2016-10-14T01:58:25Z   \n",
       "3                          NaN  2016-09-09T17:30:34Z  2016-10-04T05:15:17Z   \n",
       "4                      Mexican  2016-05-19T11:50:25Z  2016-09-11T00:06:37Z   \n",
       "\n",
       "    latitude   longitude menus.category menus.currency        menus.dateSeen  \\\n",
       "0  39.561570  -95.121020            NaN            NaN  2017-02-01T18:04:44Z   \n",
       "1  39.561570  -95.121020            NaN            NaN  2016-03-02T11:49:34Z   \n",
       "2  37.401855 -121.266703            NaN            NaN  2016-10-14T01:58:25Z   \n",
       "3        NaN         NaN            NaN            NaN  2016-09-09T17:30:34Z   \n",
       "4  34.080724 -118.389578            NaN            NaN  2016-05-19T11:50:25Z   \n",
       "\n",
       "                                   menus.description         menus.name  \\\n",
       "0                                                NaN               Taco   \n",
       "1  Beef, onion, cheddar cheese, lettuce,  refried...               Taco   \n",
       "2  Beef barbacoa or chicken, spanish rice, pico d...   Smotherd Burrito   \n",
       "3                                                NaN    Sausage Burrito   \n",
       "4  Wahoo, avocado, cabbage, pico de gallo  and av...  Wahoo Tacogrilled   \n",
       "\n",
       "                                name      province  \n",
       "0                    Gambino's Pizza            KS  \n",
       "1                    Gambino's Pizza            KS  \n",
       "2  Diablo Grande Golf & Country Club       Grayson  \n",
       "3                         Mcdonald's         Niwot  \n",
       "4           Baja Fresh Mexican Grill  Bicentennial  "
      ]
     },
     "execution_count": 45,
     "metadata": {},
     "output_type": "execute_result"
    }
   ],
   "source": [
    "df.head()"
   ]
  },
  {
   "cell_type": "markdown",
   "id": "23db4ee6",
   "metadata": {},
   "source": [
    "# 3\n",
    "Давайте посмотрим, какой тип имеют колонки `city` и `latitude`.\n",
    "\n",
    "Введите через пробел названия типов."
   ]
  },
  {
   "cell_type": "code",
   "execution_count": 11,
   "id": "c6b24e7c",
   "metadata": {
    "ExecuteTime": {
     "end_time": "2023-06-13T09:11:13.181343Z",
     "start_time": "2023-06-13T09:11:13.173725Z"
    }
   },
   "outputs": [
    {
     "data": {
      "text/plain": [
       "id                    object\n",
       "address               object\n",
       "categories            object\n",
       "city                  object\n",
       "cuisines              object\n",
       "dateAdded             object\n",
       "dateUpdated           object\n",
       "latitude             float64\n",
       "longitude            float64\n",
       "menus.category        object\n",
       "menus.currency        object\n",
       "menus.dateSeen        object\n",
       "menus.description     object\n",
       "menus.name            object\n",
       "name                  object\n",
       "province              object\n",
       "dtype: object"
      ]
     },
     "execution_count": 11,
     "metadata": {},
     "output_type": "execute_result"
    }
   ],
   "source": [
    "df.dtypes"
   ]
  },
  {
   "cell_type": "markdown",
   "id": "496e4f00",
   "metadata": {},
   "source": [
    "# 4\n",
    "Какие колонки будут выведены при применении метода `describe` и почему только они?"
   ]
  },
  {
   "cell_type": "markdown",
   "id": "1aae9c08",
   "metadata": {},
   "source": [
    "# 5\n",
    "Какие средние значения в тех колонках, которые вывел `describe` в предыдущем задании?\n",
    "\n",
    "Укажите их через пробел, округлив до двух знаков после запятой. Используйте точку в качестве десятичного разделителя."
   ]
  },
  {
   "cell_type": "code",
   "execution_count": 12,
   "id": "de07d891",
   "metadata": {
    "ExecuteTime": {
     "end_time": "2023-06-13T09:38:31.061684Z",
     "start_time": "2023-06-13T09:38:31.038409Z"
    }
   },
   "outputs": [
    {
     "data": {
      "text/html": [
       "<div>\n",
       "<style scoped>\n",
       "    .dataframe tbody tr th:only-of-type {\n",
       "        vertical-align: middle;\n",
       "    }\n",
       "\n",
       "    .dataframe tbody tr th {\n",
       "        vertical-align: top;\n",
       "    }\n",
       "\n",
       "    .dataframe thead th {\n",
       "        text-align: right;\n",
       "    }\n",
       "</style>\n",
       "<table border=\"1\" class=\"dataframe\">\n",
       "  <thead>\n",
       "    <tr style=\"text-align: right;\">\n",
       "      <th></th>\n",
       "      <th>latitude</th>\n",
       "      <th>longitude</th>\n",
       "    </tr>\n",
       "  </thead>\n",
       "  <tbody>\n",
       "    <tr>\n",
       "      <th>count</th>\n",
       "      <td>55636.000000</td>\n",
       "      <td>55636.000000</td>\n",
       "    </tr>\n",
       "    <tr>\n",
       "      <th>mean</th>\n",
       "      <td>36.694846</td>\n",
       "      <td>-98.713309</td>\n",
       "    </tr>\n",
       "    <tr>\n",
       "      <th>std</th>\n",
       "      <td>4.835124</td>\n",
       "      <td>18.245857</td>\n",
       "    </tr>\n",
       "    <tr>\n",
       "      <th>min</th>\n",
       "      <td>-31.986438</td>\n",
       "      <td>-159.492690</td>\n",
       "    </tr>\n",
       "    <tr>\n",
       "      <th>25%</th>\n",
       "      <td>33.668355</td>\n",
       "      <td>-117.647150</td>\n",
       "    </tr>\n",
       "    <tr>\n",
       "      <th>50%</th>\n",
       "      <td>36.047195</td>\n",
       "      <td>-96.682320</td>\n",
       "    </tr>\n",
       "    <tr>\n",
       "      <th>75%</th>\n",
       "      <td>40.588380</td>\n",
       "      <td>-82.679930</td>\n",
       "    </tr>\n",
       "    <tr>\n",
       "      <th>max</th>\n",
       "      <td>61.219460</td>\n",
       "      <td>115.903696</td>\n",
       "    </tr>\n",
       "  </tbody>\n",
       "</table>\n",
       "</div>"
      ],
      "text/plain": [
       "           latitude     longitude\n",
       "count  55636.000000  55636.000000\n",
       "mean      36.694846    -98.713309\n",
       "std        4.835124     18.245857\n",
       "min      -31.986438   -159.492690\n",
       "25%       33.668355   -117.647150\n",
       "50%       36.047195    -96.682320\n",
       "75%       40.588380    -82.679930\n",
       "max       61.219460    115.903696"
      ]
     },
     "execution_count": 12,
     "metadata": {},
     "output_type": "execute_result"
    }
   ],
   "source": [
    "df.describe()"
   ]
  },
  {
   "cell_type": "markdown",
   "id": "939fdd11",
   "metadata": {},
   "source": [
    "# 6 \n",
    "Сейчас в данных присутствуют пропущенные значения. Давайте их удалим.\n",
    "\n",
    "Примените метод `dropna`.  Сколько осталось записей?"
   ]
  },
  {
   "cell_type": "code",
   "execution_count": 13,
   "id": "d20ea31c",
   "metadata": {
    "ExecuteTime": {
     "end_time": "2023-06-13T09:41:49.273656Z",
     "start_time": "2023-06-13T09:41:49.211509Z"
    }
   },
   "outputs": [
    {
     "data": {
      "text/html": [
       "<div>\n",
       "<style scoped>\n",
       "    .dataframe tbody tr th:only-of-type {\n",
       "        vertical-align: middle;\n",
       "    }\n",
       "\n",
       "    .dataframe tbody tr th {\n",
       "        vertical-align: top;\n",
       "    }\n",
       "\n",
       "    .dataframe thead th {\n",
       "        text-align: right;\n",
       "    }\n",
       "</style>\n",
       "<table border=\"1\" class=\"dataframe\">\n",
       "  <thead>\n",
       "    <tr style=\"text-align: right;\">\n",
       "      <th></th>\n",
       "      <th>id</th>\n",
       "      <th>address</th>\n",
       "      <th>categories</th>\n",
       "      <th>city</th>\n",
       "      <th>cuisines</th>\n",
       "      <th>dateAdded</th>\n",
       "      <th>dateUpdated</th>\n",
       "      <th>latitude</th>\n",
       "      <th>longitude</th>\n",
       "      <th>menus.category</th>\n",
       "      <th>menus.currency</th>\n",
       "      <th>menus.dateSeen</th>\n",
       "      <th>menus.description</th>\n",
       "      <th>menus.name</th>\n",
       "      <th>name</th>\n",
       "      <th>province</th>\n",
       "    </tr>\n",
       "  </thead>\n",
       "  <tbody>\n",
       "    <tr>\n",
       "      <th>72</th>\n",
       "      <td>AVwc_6st_7pvs4fz1Mln</td>\n",
       "      <td>95 Matthews Dr</td>\n",
       "      <td>Restaurant</td>\n",
       "      <td>Hilton Head Island</td>\n",
       "      <td>Japanese, Thai, Hibachi</td>\n",
       "      <td>2015-10-19T20:43:35Z</td>\n",
       "      <td>2016-08-22T11:22:45Z</td>\n",
       "      <td>32.212044</td>\n",
       "      <td>-80.701132</td>\n",
       "      <td>Appetizers Sushi Bar</td>\n",
       "      <td>USD</td>\n",
       "      <td>2016-08-20T00:00:00Z</td>\n",
       "      <td>Pepper tuna, pepper white tuna, spicy crab mea...</td>\n",
       "      <td>Taco Tara</td>\n",
       "      <td>Okko Hilton Head</td>\n",
       "      <td>SC</td>\n",
       "    </tr>\n",
       "    <tr>\n",
       "      <th>242</th>\n",
       "      <td>AVwc_DjlkufWRAb51GPc</td>\n",
       "      <td>2610 Lyndale Ave S</td>\n",
       "      <td>Restaurant</td>\n",
       "      <td>Minneapolis</td>\n",
       "      <td>American, Bar / Lounge / Bottle Service</td>\n",
       "      <td>2016-08-01T19:18:23Z</td>\n",
       "      <td>2016-08-22T11:27:55Z</td>\n",
       "      <td>44.954945</td>\n",
       "      <td>-93.288246</td>\n",
       "      <td>Main Course</td>\n",
       "      <td>USD</td>\n",
       "      <td>2016-08-20T00:00:00Z</td>\n",
       "      <td>Main i pico slaw i radish i cilantro-lime crem...</td>\n",
       "      <td>Blackened Fish Tacos</td>\n",
       "      <td>French Meadow Cafe &amp; Bluestem Bar</td>\n",
       "      <td>MN</td>\n",
       "    </tr>\n",
       "    <tr>\n",
       "      <th>243</th>\n",
       "      <td>AVwc_DjlkufWRAb51GPc</td>\n",
       "      <td>2610 Lyndale Ave S</td>\n",
       "      <td>Restaurant</td>\n",
       "      <td>Minneapolis</td>\n",
       "      <td>American, Bar / Lounge / Bottle Service</td>\n",
       "      <td>2016-08-01T19:18:23Z</td>\n",
       "      <td>2016-08-22T11:27:55Z</td>\n",
       "      <td>44.954945</td>\n",
       "      <td>-93.288246</td>\n",
       "      <td>Main Course</td>\n",
       "      <td>USD</td>\n",
       "      <td>2016-08-20T00:00:00Z</td>\n",
       "      <td>Blackened organic tempeh i tempeh chorizo i pi...</td>\n",
       "      <td>Blackened Tempeh Tacos</td>\n",
       "      <td>French Meadow Cafe &amp; Bluestem Bar</td>\n",
       "      <td>MN</td>\n",
       "    </tr>\n",
       "    <tr>\n",
       "      <th>259</th>\n",
       "      <td>AVwc_DW1_7pvs4fz1DBV</td>\n",
       "      <td>119 W Clay St</td>\n",
       "      <td>Bistro,American Restaurant,New American Restau...</td>\n",
       "      <td>Mebane</td>\n",
       "      <td>American Restaurants,American, Contemporary Am...</td>\n",
       "      <td>2016-03-31T02:34:19Z</td>\n",
       "      <td>2017-07-03T17:12:10Z</td>\n",
       "      <td>36.097057</td>\n",
       "      <td>-79.267750</td>\n",
       "      <td>Main</td>\n",
       "      <td>USD</td>\n",
       "      <td>2016-04-24T00:00:00Z</td>\n",
       "      <td>Grilled or blackened with house made tortilla,...</td>\n",
       "      <td>Shrimp or Mahi Taco</td>\n",
       "      <td>Mebane Downtown Table</td>\n",
       "      <td>NC</td>\n",
       "    </tr>\n",
       "    <tr>\n",
       "      <th>261</th>\n",
       "      <td>AVwc_DW1_7pvs4fz1DBV</td>\n",
       "      <td>119 W Clay St</td>\n",
       "      <td>Bistro,American Restaurant,New American Restau...</td>\n",
       "      <td>Mebane</td>\n",
       "      <td>American Restaurants,American, Contemporary Am...</td>\n",
       "      <td>2016-03-31T02:34:19Z</td>\n",
       "      <td>2017-07-03T17:12:10Z</td>\n",
       "      <td>36.097057</td>\n",
       "      <td>-79.267750</td>\n",
       "      <td>Starters</td>\n",
       "      <td>USD</td>\n",
       "      <td>2016-04-24T00:00:00Z</td>\n",
       "      <td>Slow cooked leg of duck, house made tortilla w...</td>\n",
       "      <td>Duck Confit Tacos</td>\n",
       "      <td>Mebane Downtown Table</td>\n",
       "      <td>NC</td>\n",
       "    </tr>\n",
       "    <tr>\n",
       "      <th>...</th>\n",
       "      <td>...</td>\n",
       "      <td>...</td>\n",
       "      <td>...</td>\n",
       "      <td>...</td>\n",
       "      <td>...</td>\n",
       "      <td>...</td>\n",
       "      <td>...</td>\n",
       "      <td>...</td>\n",
       "      <td>...</td>\n",
       "      <td>...</td>\n",
       "      <td>...</td>\n",
       "      <td>...</td>\n",
       "      <td>...</td>\n",
       "      <td>...</td>\n",
       "      <td>...</td>\n",
       "      <td>...</td>\n",
       "    </tr>\n",
       "    <tr>\n",
       "      <th>76997</th>\n",
       "      <td>AVz0WZ18FcQ3k02bDO8m</td>\n",
       "      <td>29 Crown Rd.Building B</td>\n",
       "      <td>Restaurant</td>\n",
       "      <td>Weatherford</td>\n",
       "      <td>Mexican</td>\n",
       "      <td>2017-06-29T14:55:32Z</td>\n",
       "      <td>2017-06-29T14:55:32Z</td>\n",
       "      <td>32.752010</td>\n",
       "      <td>-97.669332</td>\n",
       "      <td>Main</td>\n",
       "      <td>USD</td>\n",
       "      <td>2017-06-28T17:41:09.905Z</td>\n",
       "      <td>A new favorite Slowsmoked brisket, served in y...</td>\n",
       "      <td>Brisket Tacos</td>\n",
       "      <td>Los Vaqueros - West</td>\n",
       "      <td>TX</td>\n",
       "    </tr>\n",
       "    <tr>\n",
       "      <th>76998</th>\n",
       "      <td>AVz0WZ18FcQ3k02bDO8m</td>\n",
       "      <td>29 Crown Rd.Building B</td>\n",
       "      <td>Restaurant</td>\n",
       "      <td>Weatherford</td>\n",
       "      <td>Mexican</td>\n",
       "      <td>2017-06-29T14:55:32Z</td>\n",
       "      <td>2017-06-29T14:55:32Z</td>\n",
       "      <td>32.752010</td>\n",
       "      <td>-97.669332</td>\n",
       "      <td>Main</td>\n",
       "      <td>USD</td>\n",
       "      <td>2017-06-28T17:41:09.905Z</td>\n",
       "      <td>The chefs favorite when he is too busy to sit ...</td>\n",
       "      <td>Johnnys Burrito Bowl</td>\n",
       "      <td>Los Vaqueros - West</td>\n",
       "      <td>TX</td>\n",
       "    </tr>\n",
       "    <tr>\n",
       "      <th>76999</th>\n",
       "      <td>AVz0WZ18FcQ3k02bDO8m</td>\n",
       "      <td>29 Crown Rd.Building B</td>\n",
       "      <td>Restaurant</td>\n",
       "      <td>Weatherford</td>\n",
       "      <td>Mexican</td>\n",
       "      <td>2017-06-29T14:55:32Z</td>\n",
       "      <td>2017-06-29T14:55:32Z</td>\n",
       "      <td>32.752010</td>\n",
       "      <td>-97.669332</td>\n",
       "      <td>Main</td>\n",
       "      <td>USD</td>\n",
       "      <td>2017-06-28T17:41:09.905Z</td>\n",
       "      <td>With chili con queso, Spanish rice and refried...</td>\n",
       "      <td>One Beef or Chicken Burrito</td>\n",
       "      <td>Los Vaqueros - West</td>\n",
       "      <td>TX</td>\n",
       "    </tr>\n",
       "    <tr>\n",
       "      <th>77000</th>\n",
       "      <td>AVz0WZf3-gnIPe8DUW4y</td>\n",
       "      <td>2300 Matlock Rd. Suite 21</td>\n",
       "      <td>Restaurant</td>\n",
       "      <td>Mansfield</td>\n",
       "      <td>Mexican, American, Seafood</td>\n",
       "      <td>2017-06-29T14:55:31Z</td>\n",
       "      <td>2017-06-29T14:55:31Z</td>\n",
       "      <td>32.594093</td>\n",
       "      <td>-97.106282</td>\n",
       "      <td>Ensaladas  Salads</td>\n",
       "      <td>USD</td>\n",
       "      <td>2017-06-28T17:33:26.597Z</td>\n",
       "      <td>Seasoned picadillo beef served with fresh mixe...</td>\n",
       "      <td>Ensalada Taco</td>\n",
       "      <td>El Primo's Mexican Grill &amp; Cantina</td>\n",
       "      <td>TX</td>\n",
       "    </tr>\n",
       "    <tr>\n",
       "      <th>77014</th>\n",
       "      <td>AVz0WZsS-gnIPe8DUW45</td>\n",
       "      <td>4150 North MacArthur Blvd</td>\n",
       "      <td>Restaurant</td>\n",
       "      <td>Irving</td>\n",
       "      <td>Steakhouse, American</td>\n",
       "      <td>2017-06-29T14:55:32Z</td>\n",
       "      <td>2017-06-29T14:55:32Z</td>\n",
       "      <td>32.862452</td>\n",
       "      <td>-96.959246</td>\n",
       "      <td>Air</td>\n",
       "      <td>USD</td>\n",
       "      <td>2017-06-28T17:36:57.862Z</td>\n",
       "      <td>peppers onions jack cheese flour tortilla sour...</td>\n",
       "      <td>Beer Can Chicken Tacos</td>\n",
       "      <td>LAW at Four Seasons Dallas</td>\n",
       "      <td>TX</td>\n",
       "    </tr>\n",
       "  </tbody>\n",
       "</table>\n",
       "<p>1925 rows × 16 columns</p>\n",
       "</div>"
      ],
      "text/plain": [
       "                         id                    address  \\\n",
       "72     AVwc_6st_7pvs4fz1Mln             95 Matthews Dr   \n",
       "242    AVwc_DjlkufWRAb51GPc         2610 Lyndale Ave S   \n",
       "243    AVwc_DjlkufWRAb51GPc         2610 Lyndale Ave S   \n",
       "259    AVwc_DW1_7pvs4fz1DBV              119 W Clay St   \n",
       "261    AVwc_DW1_7pvs4fz1DBV              119 W Clay St   \n",
       "...                     ...                        ...   \n",
       "76997  AVz0WZ18FcQ3k02bDO8m     29 Crown Rd.Building B   \n",
       "76998  AVz0WZ18FcQ3k02bDO8m     29 Crown Rd.Building B   \n",
       "76999  AVz0WZ18FcQ3k02bDO8m     29 Crown Rd.Building B   \n",
       "77000  AVz0WZf3-gnIPe8DUW4y  2300 Matlock Rd. Suite 21   \n",
       "77014  AVz0WZsS-gnIPe8DUW45  4150 North MacArthur Blvd   \n",
       "\n",
       "                                              categories                city  \\\n",
       "72                                            Restaurant  Hilton Head Island   \n",
       "242                                           Restaurant         Minneapolis   \n",
       "243                                           Restaurant         Minneapolis   \n",
       "259    Bistro,American Restaurant,New American Restau...              Mebane   \n",
       "261    Bistro,American Restaurant,New American Restau...              Mebane   \n",
       "...                                                  ...                 ...   \n",
       "76997                                         Restaurant         Weatherford   \n",
       "76998                                         Restaurant         Weatherford   \n",
       "76999                                         Restaurant         Weatherford   \n",
       "77000                                         Restaurant           Mansfield   \n",
       "77014                                         Restaurant              Irving   \n",
       "\n",
       "                                                cuisines  \\\n",
       "72                               Japanese, Thai, Hibachi   \n",
       "242              American, Bar / Lounge / Bottle Service   \n",
       "243              American, Bar / Lounge / Bottle Service   \n",
       "259    American Restaurants,American, Contemporary Am...   \n",
       "261    American Restaurants,American, Contemporary Am...   \n",
       "...                                                  ...   \n",
       "76997                                            Mexican   \n",
       "76998                                            Mexican   \n",
       "76999                                            Mexican   \n",
       "77000                         Mexican, American, Seafood   \n",
       "77014                               Steakhouse, American   \n",
       "\n",
       "                  dateAdded           dateUpdated   latitude  longitude  \\\n",
       "72     2015-10-19T20:43:35Z  2016-08-22T11:22:45Z  32.212044 -80.701132   \n",
       "242    2016-08-01T19:18:23Z  2016-08-22T11:27:55Z  44.954945 -93.288246   \n",
       "243    2016-08-01T19:18:23Z  2016-08-22T11:27:55Z  44.954945 -93.288246   \n",
       "259    2016-03-31T02:34:19Z  2017-07-03T17:12:10Z  36.097057 -79.267750   \n",
       "261    2016-03-31T02:34:19Z  2017-07-03T17:12:10Z  36.097057 -79.267750   \n",
       "...                     ...                   ...        ...        ...   \n",
       "76997  2017-06-29T14:55:32Z  2017-06-29T14:55:32Z  32.752010 -97.669332   \n",
       "76998  2017-06-29T14:55:32Z  2017-06-29T14:55:32Z  32.752010 -97.669332   \n",
       "76999  2017-06-29T14:55:32Z  2017-06-29T14:55:32Z  32.752010 -97.669332   \n",
       "77000  2017-06-29T14:55:31Z  2017-06-29T14:55:31Z  32.594093 -97.106282   \n",
       "77014  2017-06-29T14:55:32Z  2017-06-29T14:55:32Z  32.862452 -96.959246   \n",
       "\n",
       "             menus.category menus.currency            menus.dateSeen  \\\n",
       "72     Appetizers Sushi Bar            USD      2016-08-20T00:00:00Z   \n",
       "242             Main Course            USD      2016-08-20T00:00:00Z   \n",
       "243             Main Course            USD      2016-08-20T00:00:00Z   \n",
       "259                    Main            USD      2016-04-24T00:00:00Z   \n",
       "261                Starters            USD      2016-04-24T00:00:00Z   \n",
       "...                     ...            ...                       ...   \n",
       "76997                  Main            USD  2017-06-28T17:41:09.905Z   \n",
       "76998                  Main            USD  2017-06-28T17:41:09.905Z   \n",
       "76999                  Main            USD  2017-06-28T17:41:09.905Z   \n",
       "77000     Ensaladas  Salads            USD  2017-06-28T17:33:26.597Z   \n",
       "77014                   Air            USD  2017-06-28T17:36:57.862Z   \n",
       "\n",
       "                                       menus.description  \\\n",
       "72     Pepper tuna, pepper white tuna, spicy crab mea...   \n",
       "242    Main i pico slaw i radish i cilantro-lime crem...   \n",
       "243    Blackened organic tempeh i tempeh chorizo i pi...   \n",
       "259    Grilled or blackened with house made tortilla,...   \n",
       "261    Slow cooked leg of duck, house made tortilla w...   \n",
       "...                                                  ...   \n",
       "76997  A new favorite Slowsmoked brisket, served in y...   \n",
       "76998  The chefs favorite when he is too busy to sit ...   \n",
       "76999  With chili con queso, Spanish rice and refried...   \n",
       "77000  Seasoned picadillo beef served with fresh mixe...   \n",
       "77014  peppers onions jack cheese flour tortilla sour...   \n",
       "\n",
       "                        menus.name                                name  \\\n",
       "72                       Taco Tara                    Okko Hilton Head   \n",
       "242           Blackened Fish Tacos   French Meadow Cafe & Bluestem Bar   \n",
       "243         Blackened Tempeh Tacos   French Meadow Cafe & Bluestem Bar   \n",
       "259            Shrimp or Mahi Taco               Mebane Downtown Table   \n",
       "261              Duck Confit Tacos               Mebane Downtown Table   \n",
       "...                            ...                                 ...   \n",
       "76997                Brisket Tacos                 Los Vaqueros - West   \n",
       "76998         Johnnys Burrito Bowl                 Los Vaqueros - West   \n",
       "76999  One Beef or Chicken Burrito                 Los Vaqueros - West   \n",
       "77000                Ensalada Taco  El Primo's Mexican Grill & Cantina   \n",
       "77014       Beer Can Chicken Tacos          LAW at Four Seasons Dallas   \n",
       "\n",
       "      province  \n",
       "72          SC  \n",
       "242         MN  \n",
       "243         MN  \n",
       "259         NC  \n",
       "261         NC  \n",
       "...        ...  \n",
       "76997       TX  \n",
       "76998       TX  \n",
       "76999       TX  \n",
       "77000       TX  \n",
       "77014       TX  \n",
       "\n",
       "[1925 rows x 16 columns]"
      ]
     },
     "execution_count": 13,
     "metadata": {},
     "output_type": "execute_result"
    }
   ],
   "source": [
    "df.dropna()"
   ]
  },
  {
   "cell_type": "markdown",
   "id": "a722fa62",
   "metadata": {},
   "source": [
    "# 7\n",
    "Отберите заведения, которые находятся в городе Калифорния (`'California'`), штат Миссури.  Укажите индексы, под которыми полученные заведения расположены в датафрейме, через запятую и пробел в порядке возрастания. \n",
    "\n",
    "Например:\n",
    "\n",
    "`11235, 12457, 77980, 88901`\n",
    "\n",
    "NB! В текущем и последующих заданиях вся работа происходит с изначальным датафреймом. Результат предыдущего задания не учитывается"
   ]
  },
  {
   "cell_type": "code",
   "execution_count": 16,
   "id": "496eb373",
   "metadata": {
    "ExecuteTime": {
     "end_time": "2023-06-13T10:00:14.081483Z",
     "start_time": "2023-06-13T10:00:14.069245Z"
    }
   },
   "outputs": [
    {
     "data": {
      "text/plain": [
       "Index([40483, 52930, 52931, 52932, 52933, 52934, 52935, 52936, 52937, 52938,\n",
       "       52939, 65070],\n",
       "      dtype='int64')"
      ]
     },
     "execution_count": 16,
     "metadata": {},
     "output_type": "execute_result"
    }
   ],
   "source": [
    "df[df['city'] == 'California'].index"
   ]
  },
  {
   "cell_type": "markdown",
   "id": "7ca560d8",
   "metadata": {},
   "source": [
    "# 8\n",
    "Отберите заведения `Taco Bell` в городе Калифорния (`'California'`), штат Миссури.\n",
    "\n",
    "Укажите индексы этих заведений через запятую и пробел в порядке возрастания."
   ]
  },
  {
   "cell_type": "code",
   "execution_count": 20,
   "id": "64ee1d61",
   "metadata": {
    "ExecuteTime": {
     "end_time": "2023-06-13T10:02:07.653773Z",
     "start_time": "2023-06-13T10:02:07.645928Z"
    }
   },
   "outputs": [
    {
     "data": {
      "text/plain": [
       "Index([52930, 52931, 52932, 52933, 52934, 52935, 52936, 52937, 52938, 52939], dtype='int64')"
      ]
     },
     "execution_count": 20,
     "metadata": {},
     "output_type": "execute_result"
    }
   ],
   "source": [
    "df[(df['city'] == 'California') & (df['name'] == 'Taco Bell')].index"
   ]
  },
  {
   "cell_type": "markdown",
   "id": "37faf73d",
   "metadata": {},
   "source": [
    "# 9\n",
    "Давайте найдем заведения `Taco Bell` или заведения, которые находятся в городе Нью-Йорк. При этом обязательно, чтобы в названии меню не было `Volcano Taco` и `Fresco Soft Taco` (именно таких значений колонки). Данные нужно сохранить в датафрейм `result`.\n",
    "\n",
    "Данные загружены в переменную `data`. "
   ]
  },
  {
   "cell_type": "code",
   "execution_count": 22,
   "id": "c36424f5",
   "metadata": {
    "ExecuteTime": {
     "end_time": "2023-06-13T10:07:38.796585Z",
     "start_time": "2023-06-13T10:07:38.770644Z"
    }
   },
   "outputs": [],
   "source": [
    "result = df[((df['city'] == 'New York') | (df['name'] == 'Taco Bell')) & \n",
    "              (~(df['menus.name'].isin(['Volcano Taco', 'Fresco Soft Taco'])))]"
   ]
  },
  {
   "cell_type": "markdown",
   "id": "f7e4e0a6",
   "metadata": {},
   "source": [
    "# 10\n",
    "Давайте отберем заведения, где значение валюты, в которой принимают оплату, не пропущено.\n",
    "\n",
    "Нужно сохранить данные в результирующий датафрейм `result`.\n",
    "\n",
    "Данные загружены `data`. "
   ]
  },
  {
   "cell_type": "code",
   "execution_count": 25,
   "id": "44596dc3",
   "metadata": {
    "ExecuteTime": {
     "end_time": "2023-06-13T10:09:21.107385Z",
     "start_time": "2023-06-13T10:09:21.090007Z"
    }
   },
   "outputs": [],
   "source": [
    "result = df[~(df['menus.currency'].isna())  ]"
   ]
  },
  {
   "cell_type": "markdown",
   "id": "a609dd0c",
   "metadata": {
    "ExecuteTime": {
     "end_time": "2023-06-13T10:09:22.237839Z",
     "start_time": "2023-06-13T10:09:22.217165Z"
    }
   },
   "source": [
    "# 11\n",
    "Попробуйте сделать `data['categories']`, `data[['categories']]`, посмотрите на тип и на значения их элементов.\n",
    "\n",
    "Выберете подходящие значения."
   ]
  },
  {
   "cell_type": "code",
   "execution_count": 27,
   "id": "95681960",
   "metadata": {
    "ExecuteTime": {
     "end_time": "2023-06-13T10:09:47.617636Z",
     "start_time": "2023-06-13T10:09:47.612034Z"
    }
   },
   "outputs": [
    {
     "data": {
      "text/plain": [
       "0        Restaurant Delivery Service,Restaurants,Pizza,...\n",
       "1        Restaurant Delivery Service,Restaurants,Pizza,...\n",
       "2             Golf Course, American Restaurant, and Resort\n",
       "3                                     Fast Food Restaurant\n",
       "4        Mexican Restaurant Mid-City West,Mexican Resta...\n",
       "                               ...                        \n",
       "77255                                           Restaurant\n",
       "77256                                           Restaurant\n",
       "77257                                           Restaurant\n",
       "77258                                           Restaurant\n",
       "77259                                           Restaurant\n",
       "Name: categories, Length: 77260, dtype: object"
      ]
     },
     "execution_count": 27,
     "metadata": {},
     "output_type": "execute_result"
    }
   ],
   "source": [
    "df['categories']"
   ]
  },
  {
   "cell_type": "code",
   "execution_count": 30,
   "id": "c7d9a7ee",
   "metadata": {
    "ExecuteTime": {
     "end_time": "2023-06-13T10:11:06.425899Z",
     "start_time": "2023-06-13T10:11:06.415099Z"
    }
   },
   "outputs": [
    {
     "data": {
      "text/html": [
       "<div>\n",
       "<style scoped>\n",
       "    .dataframe tbody tr th:only-of-type {\n",
       "        vertical-align: middle;\n",
       "    }\n",
       "\n",
       "    .dataframe tbody tr th {\n",
       "        vertical-align: top;\n",
       "    }\n",
       "\n",
       "    .dataframe thead th {\n",
       "        text-align: right;\n",
       "    }\n",
       "</style>\n",
       "<table border=\"1\" class=\"dataframe\">\n",
       "  <thead>\n",
       "    <tr style=\"text-align: right;\">\n",
       "      <th></th>\n",
       "      <th>categories</th>\n",
       "    </tr>\n",
       "  </thead>\n",
       "  <tbody>\n",
       "    <tr>\n",
       "      <th>0</th>\n",
       "      <td>Restaurant Delivery Service,Restaurants,Pizza,...</td>\n",
       "    </tr>\n",
       "    <tr>\n",
       "      <th>1</th>\n",
       "      <td>Restaurant Delivery Service,Restaurants,Pizza,...</td>\n",
       "    </tr>\n",
       "    <tr>\n",
       "      <th>2</th>\n",
       "      <td>Golf Course, American Restaurant, and Resort</td>\n",
       "    </tr>\n",
       "    <tr>\n",
       "      <th>3</th>\n",
       "      <td>Fast Food Restaurant</td>\n",
       "    </tr>\n",
       "    <tr>\n",
       "      <th>4</th>\n",
       "      <td>Mexican Restaurant Mid-City West,Mexican Resta...</td>\n",
       "    </tr>\n",
       "    <tr>\n",
       "      <th>...</th>\n",
       "      <td>...</td>\n",
       "    </tr>\n",
       "    <tr>\n",
       "      <th>77255</th>\n",
       "      <td>Restaurant</td>\n",
       "    </tr>\n",
       "    <tr>\n",
       "      <th>77256</th>\n",
       "      <td>Restaurant</td>\n",
       "    </tr>\n",
       "    <tr>\n",
       "      <th>77257</th>\n",
       "      <td>Restaurant</td>\n",
       "    </tr>\n",
       "    <tr>\n",
       "      <th>77258</th>\n",
       "      <td>Restaurant</td>\n",
       "    </tr>\n",
       "    <tr>\n",
       "      <th>77259</th>\n",
       "      <td>Restaurant</td>\n",
       "    </tr>\n",
       "  </tbody>\n",
       "</table>\n",
       "<p>77260 rows × 1 columns</p>\n",
       "</div>"
      ],
      "text/plain": [
       "                                              categories\n",
       "0      Restaurant Delivery Service,Restaurants,Pizza,...\n",
       "1      Restaurant Delivery Service,Restaurants,Pizza,...\n",
       "2           Golf Course, American Restaurant, and Resort\n",
       "3                                   Fast Food Restaurant\n",
       "4      Mexican Restaurant Mid-City West,Mexican Resta...\n",
       "...                                                  ...\n",
       "77255                                         Restaurant\n",
       "77256                                         Restaurant\n",
       "77257                                         Restaurant\n",
       "77258                                         Restaurant\n",
       "77259                                         Restaurant\n",
       "\n",
       "[77260 rows x 1 columns]"
      ]
     },
     "execution_count": 30,
     "metadata": {},
     "output_type": "execute_result"
    }
   ],
   "source": [
    "df[['categories']]"
   ]
  },
  {
   "cell_type": "markdown",
   "id": "3120449c",
   "metadata": {},
   "source": [
    "# 12 \n",
    "Напишите через запятую и пробел 5 городов с наибольшим количеством записей."
   ]
  },
  {
   "cell_type": "code",
   "execution_count": 40,
   "id": "e0ea73fc",
   "metadata": {
    "ExecuteTime": {
     "end_time": "2023-06-13T10:15:05.251673Z",
     "start_time": "2023-06-13T10:15:05.225040Z"
    }
   },
   "outputs": [
    {
     "data": {
      "text/html": [
       "<div>\n",
       "<style scoped>\n",
       "    .dataframe tbody tr th:only-of-type {\n",
       "        vertical-align: middle;\n",
       "    }\n",
       "\n",
       "    .dataframe tbody tr th {\n",
       "        vertical-align: top;\n",
       "    }\n",
       "\n",
       "    .dataframe thead th {\n",
       "        text-align: right;\n",
       "    }\n",
       "</style>\n",
       "<table border=\"1\" class=\"dataframe\">\n",
       "  <thead>\n",
       "    <tr style=\"text-align: right;\">\n",
       "      <th></th>\n",
       "      <th>city</th>\n",
       "      <th>id</th>\n",
       "    </tr>\n",
       "  </thead>\n",
       "  <tbody>\n",
       "    <tr>\n",
       "      <th>2829</th>\n",
       "      <td>San Diego</td>\n",
       "      <td>1924</td>\n",
       "    </tr>\n",
       "    <tr>\n",
       "      <th>1827</th>\n",
       "      <td>Los Angeles</td>\n",
       "      <td>1603</td>\n",
       "    </tr>\n",
       "    <tr>\n",
       "      <th>569</th>\n",
       "      <td>Chicago</td>\n",
       "      <td>1186</td>\n",
       "    </tr>\n",
       "    <tr>\n",
       "      <th>2832</th>\n",
       "      <td>San Francisco</td>\n",
       "      <td>1120</td>\n",
       "    </tr>\n",
       "    <tr>\n",
       "      <th>2229</th>\n",
       "      <td>New York</td>\n",
       "      <td>1085</td>\n",
       "    </tr>\n",
       "    <tr>\n",
       "      <th>...</th>\n",
       "      <td>...</td>\n",
       "      <td>...</td>\n",
       "    </tr>\n",
       "    <tr>\n",
       "      <th>563</th>\n",
       "      <td>Chesterfield</td>\n",
       "      <td>1</td>\n",
       "    </tr>\n",
       "    <tr>\n",
       "      <th>2189</th>\n",
       "      <td>Nephi</td>\n",
       "      <td>1</td>\n",
       "    </tr>\n",
       "    <tr>\n",
       "      <th>1168</th>\n",
       "      <td>Glasgow</td>\n",
       "      <td>1</td>\n",
       "    </tr>\n",
       "    <tr>\n",
       "      <th>2932</th>\n",
       "      <td>Sequim</td>\n",
       "      <td>1</td>\n",
       "    </tr>\n",
       "    <tr>\n",
       "      <th>434</th>\n",
       "      <td>Cameron</td>\n",
       "      <td>1</td>\n",
       "    </tr>\n",
       "  </tbody>\n",
       "</table>\n",
       "<p>3601 rows × 2 columns</p>\n",
       "</div>"
      ],
      "text/plain": [
       "               city    id\n",
       "2829      San Diego  1924\n",
       "1827    Los Angeles  1603\n",
       "569         Chicago  1186\n",
       "2832  San Francisco  1120\n",
       "2229       New York  1085\n",
       "...             ...   ...\n",
       "563    Chesterfield     1\n",
       "2189          Nephi     1\n",
       "1168        Glasgow     1\n",
       "2932         Sequim     1\n",
       "434         Cameron     1\n",
       "\n",
       "[3601 rows x 2 columns]"
      ]
     },
     "execution_count": 40,
     "metadata": {},
     "output_type": "execute_result"
    }
   ],
   "source": [
    "df.groupby('city', as_index=False)['id'].count().sort_values(by = 'id', ascending = False)"
   ]
  },
  {
   "cell_type": "code",
   "execution_count": 44,
   "id": "ad8307ff",
   "metadata": {
    "ExecuteTime": {
     "end_time": "2023-06-13T10:16:33.484577Z",
     "start_time": "2023-06-13T10:16:33.464509Z"
    }
   },
   "outputs": [
    {
     "data": {
      "text/plain": [
       "city\n",
       "San Diego            1924\n",
       "Los Angeles          1603\n",
       "Chicago              1186\n",
       "San Francisco        1120\n",
       "New York             1085\n",
       "                     ... \n",
       "Corfu                   1\n",
       "Sharon Hill             1\n",
       "Lawrence Township       1\n",
       "Selinsgrove             1\n",
       "Santa Clarita           1\n",
       "Name: count, Length: 3601, dtype: int64"
      ]
     },
     "execution_count": 44,
     "metadata": {},
     "output_type": "execute_result"
    }
   ],
   "source": [
    "df['city'].value_counts()"
   ]
  },
  {
   "cell_type": "markdown",
   "id": "298dfc7e",
   "metadata": {},
   "source": [
    "# 13 \n",
    "Посчитайте, сколько ресторанов `Taco Bell` находится в каждом городе. Отберите 5 городов, в которых ресторан встречается чаще всего. Количество ресторанов для этих городов с их названиями сохраните в виде объекта `pd.Series` в переменную `result`.\n",
    "\n",
    "Данные сохранены в переменную `data`."
   ]
  },
  {
   "cell_type": "code",
   "execution_count": null,
   "id": "e3aba104",
   "metadata": {},
   "outputs": [],
   "source": []
  },
  {
   "cell_type": "markdown",
   "id": "0e8f295f",
   "metadata": {},
   "source": [
    "# 14\n",
    "Давайте найдем рестораны, открытые в октябре.\n",
    "\n",
    "Отправьте индексы первых пяти ресторанов через запятую и пробел в порядке возрастания.\n",
    "\n",
    "Советуем вам посмотреть в сторону метода `to_datetime`."
   ]
  },
  {
   "cell_type": "code",
   "execution_count": null,
   "id": "c448cecb",
   "metadata": {},
   "outputs": [],
   "source": []
  },
  {
   "cell_type": "markdown",
   "id": "5f3c9b80",
   "metadata": {},
   "source": [
    "# 15\n",
    "Сделайте группировку по месяцу открытия ресторана (переменная `dateAdded`). Сколько ресторанов было открыто в каждом месяце? Рассчитайте по количеству уникальных `id` ресторанов в каждом месяце. Значения `dateAdded` должны при этом быть индексами. Результирующий датафрейм сохраните в `result`\n",
    "\n",
    "Данные сохранены в переменную `data`."
   ]
  },
  {
   "cell_type": "code",
   "execution_count": null,
   "id": "83378521",
   "metadata": {},
   "outputs": [],
   "source": []
  },
  {
   "cell_type": "markdown",
   "id": "dedf2a7d",
   "metadata": {},
   "source": [
    "# 16\n",
    "В этом задании нужно добавить столбец `update_deltaс` количеством целых дней, полученных от разницы между `dateUpdated` и `dateAdded`.\n",
    "\n",
    "Потом для каждого города найдите (в указанном порядке):\n",
    "\n",
    "- среднее по переменной `update_delta`\n",
    "\n",
    "- широту самой северной закусочной (чем севернее расположена закусочная, тем больше будет значение широты)\n",
    "\n",
    " Названия городов не должны быть индексами. Сохраните результирующий датафрейм в переменную `result`.  Также сохраните в переменную `zep_mean` среднее значение `update_delta` по городу `Zephyrhills`.\n",
    "\n",
    "Данные сохранены в переменную `data`."
   ]
  },
  {
   "cell_type": "code",
   "execution_count": null,
   "id": "0308ba4e",
   "metadata": {},
   "outputs": [],
   "source": []
  },
  {
   "cell_type": "markdown",
   "id": "7a35db83",
   "metadata": {},
   "source": [
    "# 17\n",
    "Отберите рестораны, у которых в колонке `categories` упоминается `Pizza`\n",
    "\n",
    "Укажите индекс 3-го элемента, полученного после фильтрации"
   ]
  },
  {
   "cell_type": "code",
   "execution_count": null,
   "id": "7d70e8fb",
   "metadata": {},
   "outputs": [],
   "source": []
  },
  {
   "cell_type": "markdown",
   "id": "68cc64ac",
   "metadata": {},
   "source": [
    "# 18\n",
    "В этом задании снова нужно добавить столбец `update_delta`, куда будет записана разница в днях между `dateUpdated` и `dateAdded`.  Посчитайте среднее и медиану получившейся колонки.\n",
    "\n",
    "Перечислите значения через пробел (сначала среднее, затем медиану), округлив до 2 знаков. \n",
    "\n",
    "`NB!` Десятичным разделителем должна быть точка."
   ]
  },
  {
   "cell_type": "code",
   "execution_count": null,
   "id": "036a4573",
   "metadata": {},
   "outputs": [],
   "source": []
  },
  {
   "cell_type": "markdown",
   "id": "84c47ea2",
   "metadata": {},
   "source": [
    "# 19\n",
    "В этом задании нужно отобрать записи, у которых более 20 категорий, далее их нужно сгруппировать по провинциям и подсчитать минимальную `longitude` в каждой. Округлите значения `longitude` до 3-х знаков после запятой.\n",
    "\n",
    "Далее сохраните результирующий датафрейм в файл в формате `csv` с сепаратором `;`. Сам датафрейм должен содержать две колонки: `province` и `longitude`\n",
    "\n",
    "Для решения задачи полезно будет ознакомиться с функцией."
   ]
  },
  {
   "cell_type": "code",
   "execution_count": null,
   "id": "1352579b",
   "metadata": {},
   "outputs": [],
   "source": []
  }
 ],
 "metadata": {
  "kernelspec": {
   "display_name": "Python 3 (ipykernel)",
   "language": "python",
   "name": "python3"
  },
  "language_info": {
   "codemirror_mode": {
    "name": "ipython",
    "version": 3
   },
   "file_extension": ".py",
   "mimetype": "text/x-python",
   "name": "python",
   "nbconvert_exporter": "python",
   "pygments_lexer": "ipython3",
   "version": "3.10.9"
  }
 },
 "nbformat": 4,
 "nbformat_minor": 5
}
