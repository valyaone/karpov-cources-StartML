{
 "cells": [
  {
   "cell_type": "markdown",
   "id": "e1d55ada",
   "metadata": {},
   "source": [
    "# 2\n",
    "> Функции\n",
    "\n",
    "Функции — это наш следующий кирпичик в изучении Python. Сами по себе они не сложны, а их изучение здорово окупается: при грамотном использовании функции в разы уменьшают количество кода без ущерба читаемости.\n",
    "\n",
    "Сначала мы попрактикуемся в синтаксисе и создадим простые функции. Далее будем постепенно усложнять примеры, используя продвинутые возможности.\n",
    "\n",
    "Напишите функцию circle_square, которая принимает на вход радиус radius и возвращает (через return) площадь круга. Напомним, что для круга с радиусом $r$ площадь $S$ считается по формуле $S=πr^2$. Считайте $π=3.14$"
   ]
  },
  {
   "cell_type": "code",
   "execution_count": 1,
   "id": "cb2c7d31",
   "metadata": {
    "ExecuteTime": {
     "end_time": "2023-06-07T10:48:59.415312Z",
     "start_time": "2023-06-07T10:48:59.412528Z"
    }
   },
   "outputs": [],
   "source": [
    "def circle_square(radius):\n",
    "    return 3.14 * radius ** 2"
   ]
  },
  {
   "cell_type": "code",
   "execution_count": 3,
   "id": "505dd019",
   "metadata": {
    "ExecuteTime": {
     "end_time": "2023-06-07T10:49:17.185691Z",
     "start_time": "2023-06-07T10:49:17.181785Z"
    }
   },
   "outputs": [
    {
     "data": {
      "text/plain": [
       "12.56"
      ]
     },
     "execution_count": 3,
     "metadata": {},
     "output_type": "execute_result"
    }
   ],
   "source": [
    "circle_square(2)"
   ]
  },
  {
   "cell_type": "markdown",
   "id": "524b9976",
   "metadata": {},
   "source": [
    "# 3\n",
    "\n",
    "> Функции\n",
    "\n",
    "Напишите функцию zip_, которая принимает на вход два списка и «сшивает» их следующим образом, например:\n",
    "\n",
    "Списки [1, 5, 3, 8, 35] и [2, 7, 9] превратятся в [(1, 2), (5, 7), (3, 9)], т. е. сначала берутся первые элементы первого и второго списков и собираются в кортеж, затем вторые элементы первого и второго списков и собираются в кортеж и т. д., пока не дошли до конца самого короткого списка. \n",
    "\n",
    "На выходе функция должна возвращать (return) «сшитый» список. Вам понадобится использовать цикл."
   ]
  },
  {
   "cell_type": "code",
   "execution_count": 5,
   "id": "7a1287e8",
   "metadata": {
    "ExecuteTime": {
     "end_time": "2023-06-07T10:52:56.745846Z",
     "start_time": "2023-06-07T10:52:56.742452Z"
    }
   },
   "outputs": [],
   "source": [
    "def zip_(array1, array2):\n",
    "    arr = []\n",
    "    for i in range(min(len(array1),len(array2))):\n",
    "        arr.append((array1[i],array2[i]))\n",
    "    return arr"
   ]
  },
  {
   "cell_type": "code",
   "execution_count": 15,
   "id": "60684072",
   "metadata": {
    "ExecuteTime": {
     "end_time": "2023-06-07T10:56:29.776488Z",
     "start_time": "2023-06-07T10:56:29.771902Z"
    }
   },
   "outputs": [
    {
     "data": {
      "text/plain": [
       "[(1, 2), (5, 7), (3, 9)]"
      ]
     },
     "execution_count": 15,
     "metadata": {},
     "output_type": "execute_result"
    }
   ],
   "source": [
    "zip_([1, 5, 3, 8, 35],[2, 7, 9])"
   ]
  },
  {
   "cell_type": "markdown",
   "id": "f49c7c66",
   "metadata": {},
   "source": [
    "В Python есть функция, которая решает нашу задачу — она называется zip. Ее можно использовать как for pair in zip(list_1, list_2).\n",
    "\n",
    "Вы можете использовать zip внутри своего решения, но мы советуем написать ее функционал самостоятельно через цикл, чтобы «прочуять»  работу данной функции.\n",
    "\n",
    "Более того, zip возвращает не совсем список, а объект, по которому можно пробежаться циклом for (такие объекты в Python называются итераторами). Чтобы получить привычный объект list, надо явно попросить Python достать элементы из итератора через код list(zip(list_1, list_2))."
   ]
  },
  {
   "cell_type": "code",
   "execution_count": 14,
   "id": "76a4981c",
   "metadata": {
    "ExecuteTime": {
     "end_time": "2023-06-07T10:56:27.387697Z",
     "start_time": "2023-06-07T10:56:27.384443Z"
    }
   },
   "outputs": [],
   "source": [
    "def zip_(array1, array2):\n",
    "    arr = []\n",
    "    for pair in zip(array1, array2):\n",
    "        arr.append(pair)\n",
    "    return arr"
   ]
  },
  {
   "cell_type": "markdown",
   "id": "5123df5f",
   "metadata": {},
   "source": [
    "# 4\n",
    "> Функции\n",
    "\n",
    "Добавим аргументы по умолчанию.\n",
    "\n",
    "Вспомните пример с подсчетом банковского процента из урока 1. Напишите функцию final_balance, которая на вход принимает начальную сумму init_sum, процентную ставку interest_rate, количество лет years и округление round_num. Функция должна возвращать сумму по истечении этого срока.\n",
    "\n",
    "Аргумент функции round_num должен задавать, сколько значащих чисел после запятой оставлять. Так, при round_num = 2 сумма будет выводиться с точностью до копеек, при round_num = 0 - с точностью до рублей. При этом round_num может быть отрицательным! В таком случае округление будет грубее: round_num = -1 будет округлять до десятков рублей, round_num = -2 до сотен и т. д.\n",
    "\n",
    "Поставьте значение по умолчанию round_num, равное 2. Это соответствует округлению до копеек.\n",
    "\n",
    "Вам может пригодиться встроенная в Python функция round() и примеры ее использования:\n",
    "\n",
    "round(123.45, 2)\n",
    "123.45\n",
    "\n",
    "round(123.45, 1)\n",
    "123.5\n",
    "\n",
    "round(123.45, 0)\n",
    "123.0\n",
    "\n",
    "round(123.45, -1)\n",
    "120.0\n",
    "\n",
    "round(123.45, -2)\n",
    "100.0\n",
    "\n",
    "\n",
    "Напишите функцию, вызовите ее последовательно для следующих параметров и верните результат из функции.\n",
    "\n",
    "init_sum\tinterest_rate\tyears\n",
    "\n",
    "1000\t5\t10\n",
    "\n",
    "700\t7\t10\n"
   ]
  },
  {
   "cell_type": "code",
   "execution_count": 17,
   "id": "6ccd8c1c",
   "metadata": {
    "ExecuteTime": {
     "end_time": "2023-06-07T11:04:35.200332Z",
     "start_time": "2023-06-07T11:04:35.197318Z"
    }
   },
   "outputs": [],
   "source": [
    "def final_balance(init_sum, interest_rate, years, round_num = 2):\n",
    "    return round(init_sum * ((100 + interest_rate) / 100) ** years,round_num)"
   ]
  },
  {
   "cell_type": "code",
   "execution_count": 20,
   "id": "e83c721e",
   "metadata": {
    "ExecuteTime": {
     "end_time": "2023-06-07T11:06:29.073831Z",
     "start_time": "2023-06-07T11:06:29.069198Z"
    }
   },
   "outputs": [
    {
     "data": {
      "text/plain": [
       "1050.0"
      ]
     },
     "execution_count": 20,
     "metadata": {},
     "output_type": "execute_result"
    }
   ],
   "source": [
    "final_balance(1000,5,1)"
   ]
  },
  {
   "cell_type": "markdown",
   "id": "77574de8",
   "metadata": {},
   "source": [
    "# 5\n",
    "\n",
    "> Уменьшаем дублирование кода\n",
    "\n",
    "Попробуем использовать функцию для сокращения количества кода. Для этого смоделируем ситуацию из практики.\n",
    "\n",
    "Ваш коллега придумал свой способ «генерации» данных. Для этого он предложил брать набор чисел, возводить их в куб, потом брать остаток от деления на 7, прибавлять к этому изначальный массив — и выдавать результат как «сгенерированные» данные.\n",
    "\n",
    "Например:\n",
    "\n",
    "[1,2,3,4] -  изначальный массив\n",
    "\n",
    "[1,8,27,64] - возвели все элементы в куб\n",
    "\n",
    "[1,1,6,1] - оставили остатки при делении на 7\n",
    "\n",
    "[2,3,9,5] - прибавили изначальный массив (1) к массиву (3)\n",
    "\n",
    "Коллега был очень увлечен этой идеей и написал алгоритм, но он работает неправильно — коллега подсчитал на бумаге ожидаемый результат, и он не совпал с выводом программы.\n",
    "\n",
    "Коллега предлагает распечатать массив на каждом этапе, чтобы понять, где же ошибка. Увы, на сервере, где вы выполняете код, очень много чего печатается. Чтобы выделить именно ваш вывод и не запутаться, коллега предлагает печатать решетки вокруг. У коллеги уже есть код для печати массива:\n",
    "\n",
    "print(\"###\")\n",
    "\n",
    "print(array)\n",
    "\n",
    "print(\"###\")\n",
    "\n",
    "\n",
    "Он просит вас встроить этот код везде, где изменяется переменная answer, и печатать answer таким образом.\n",
    "\n",
    "Код коллеги дан ниже. Распечатайте answer после каждого цикла и попробуйте найти ошибки в коде. Отправьте в LMS исправленную версию функции math_task  и её вызов с данными test_data.  В вашей функции должна происходить печать answer после каждого цикла.\n",
    "\n",
    "Не забудьте вызвать функцию math_task в конце!"
   ]
  },
  {
   "cell_type": "code",
   "execution_count": 25,
   "id": "9b1ad496",
   "metadata": {
    "ExecuteTime": {
     "end_time": "2023-06-07T11:13:28.255031Z",
     "start_time": "2023-06-07T11:13:28.248631Z"
    }
   },
   "outputs": [
    {
     "name": "stdout",
     "output_type": "stream",
     "text": [
      "###\n",
      "[1, 8, 27, 64]\n",
      "###\n",
      "###\n",
      "[1, 1, 6, 1]\n",
      "###\n",
      "###\n",
      "[2, 3, 9, 5]\n",
      "###\n",
      "[2, 3, 9, 5]\n"
     ]
    }
   ],
   "source": [
    "# много другого кода, который тоже печатает\n",
    "# ...\n",
    "# Код коллеги\n",
    "\n",
    "def math_task(data):\n",
    "    answer = []\n",
    "    # возводим в третью степень\n",
    "    for elem in data:\n",
    "        answer += [elem ** 3]\n",
    "    print(\"###\")\n",
    "    print(answer)\n",
    "    print(\"###\")\n",
    "    # берем остаток от деления на 7\n",
    "    for i in range(len(answer)):\n",
    "        answer[i] = answer[i] % 7\n",
    "    print(\"###\")\n",
    "    print(answer)\n",
    "    print(\"###\")\n",
    "    # прибавляем к остатку изначальный массив\n",
    "    for i in range(len(answer)):\n",
    "        answer[i] = answer[i] + data[i]\n",
    "    print(\"###\")\n",
    "    print(answer)\n",
    "    print(\"###\")\n",
    "    # возвращаем результат\n",
    "    return answer\n",
    "\n",
    "#math_task(test_data)\n",
    "print(math_task([1,2,3,4]))\n",
    "    "
   ]
  },
  {
   "cell_type": "markdown",
   "id": "cb2cb8d0",
   "metadata": {},
   "source": [
    "# 6\n",
    "\n",
    "> Уменьшаем дублирование кода\n",
    "\n",
    "Вы заметили, что нам приходилось вставлять один и тот же код в два места в прошлом задании?\n",
    "\n",
    "Давайте избавимся от этого. Вынесите код печати массива в функцию print_array, затем поменяйте вашу исправленную реализацию math_task так, чтобы она использовала функцию print_array для печати массива. Ваш код в math_task станет меньше и не будет пестрить кучей строк с print.\n",
    "\n",
    "Отправьте в LMS две функции: print_array и math_task.\n",
    "\n",
    "Вызовите функцию math_task с данными test_data."
   ]
  },
  {
   "cell_type": "code",
   "execution_count": 26,
   "id": "26515bc9",
   "metadata": {
    "ExecuteTime": {
     "end_time": "2023-06-07T11:20:02.520853Z",
     "start_time": "2023-06-07T11:20:02.514506Z"
    }
   },
   "outputs": [
    {
     "name": "stdout",
     "output_type": "stream",
     "text": [
      "###\n",
      "[1, 8, 27, 64]\n",
      "###\n",
      "###\n",
      "[1, 1, 6, 1]\n",
      "###\n",
      "###\n",
      "[2, 3, 9, 5]\n",
      "###\n",
      "[2, 3, 9, 5]\n"
     ]
    }
   ],
   "source": [
    "# много другого кода, который тоже печатает\n",
    "# ...\n",
    "# Код коллеги\n",
    "def print_array(answer):\n",
    "    print(\"###\")\n",
    "    print(answer)\n",
    "    print(\"###\")\n",
    "\n",
    "def math_task(data):\n",
    "    answer = []\n",
    "    # возводим в третью степень\n",
    "    for elem in data:\n",
    "        answer += [elem ** 3]\n",
    "    print_array(answer)\n",
    "    # берем остаток от деления на 7\n",
    "    for i in range(len(answer)):\n",
    "        answer[i] = answer[i] % 7\n",
    "    print_array(answer)\n",
    "    # прибавляем к остатку изначальный массив\n",
    "    for i in range(len(answer)):\n",
    "        answer[i] = answer[i] + data[i]\n",
    "    print_array(answer)\n",
    "    # возвращаем результат\n",
    "    return answer\n",
    "\n",
    "#math_task(test_data)\n",
    "print(math_task([1,2,3,4]))\n",
    "    "
   ]
  },
  {
   "cell_type": "markdown",
   "id": "a17c1bbd",
   "metadata": {},
   "source": [
    "# 7\n",
    "\n",
    "> Ошибки и их обработка\n",
    "\n",
    "На практике часто приходится иметь дело с данными из непроверенных источников. Эти данные могут быть неправильного формата, неправильного типа, «не читаться» и т.д. Помимо этого нашей программе может понадобиться выходить в Сеть за некоторыми данными (а Сеть ведь может быть недоступна) или подключаться к базе данных (а база данных может отказаться нас обслуживать).\n",
    "\n",
    "Все эти моменты могут сломать нашу программу. С ошибками Сети и баз данных мы научимся работать чуть позже. Пока будем учиться обрабатывать исключения в простых программах :)\n",
    "\n",
    "Напишите функцию sum_as_ints, которая принимает на вход список из строк, пытается привести их к целому числу через int(element) и считает сумму. Список может содержать любые данные, но если они не приводятся через int(element), то программа должна их отбросить.\n",
    "\n",
    "Вы можете попробовать выполнить int(\"hello\"), int(\"3.14\"), int(\"2,2\") и увидеть, какие исключения выбрасывает программа. После этого можно обработать эти исключения у себя в функции.\n",
    "\n",
    "NB! Ниже на странице можно найти материал со звездочкой."
   ]
  },
  {
   "cell_type": "code",
   "execution_count": 27,
   "id": "e8458e15",
   "metadata": {
    "ExecuteTime": {
     "end_time": "2023-06-08T07:20:02.717175Z",
     "start_time": "2023-06-08T07:20:02.695427Z"
    }
   },
   "outputs": [
    {
     "ename": "ValueError",
     "evalue": "invalid literal for int() with base 10: 'hello'",
     "output_type": "error",
     "traceback": [
      "\u001b[0;31m---------------------------------------------------------------------------\u001b[0m",
      "\u001b[0;31mValueError\u001b[0m                                Traceback (most recent call last)",
      "Cell \u001b[0;32mIn[27], line 1\u001b[0m\n\u001b[0;32m----> 1\u001b[0m \u001b[38;5;28;43mint\u001b[39;49m\u001b[43m(\u001b[49m\u001b[38;5;124;43m\"\u001b[39;49m\u001b[38;5;124;43mhello\u001b[39;49m\u001b[38;5;124;43m\"\u001b[39;49m\u001b[43m)\u001b[49m\n",
      "\u001b[0;31mValueError\u001b[0m: invalid literal for int() with base 10: 'hello'"
     ]
    }
   ],
   "source": [
    "int(\"hello\")"
   ]
  },
  {
   "cell_type": "code",
   "execution_count": 28,
   "id": "42ef4c53",
   "metadata": {
    "ExecuteTime": {
     "end_time": "2023-06-08T07:21:00.362645Z",
     "start_time": "2023-06-08T07:21:00.340929Z"
    }
   },
   "outputs": [
    {
     "ename": "ValueError",
     "evalue": "invalid literal for int() with base 10: '3.14'",
     "output_type": "error",
     "traceback": [
      "\u001b[0;31m---------------------------------------------------------------------------\u001b[0m",
      "\u001b[0;31mValueError\u001b[0m                                Traceback (most recent call last)",
      "Cell \u001b[0;32mIn[28], line 1\u001b[0m\n\u001b[0;32m----> 1\u001b[0m \u001b[38;5;28;43mint\u001b[39;49m\u001b[43m(\u001b[49m\u001b[38;5;124;43m\"\u001b[39;49m\u001b[38;5;124;43m3.14\u001b[39;49m\u001b[38;5;124;43m\"\u001b[39;49m\u001b[43m)\u001b[49m\n",
      "\u001b[0;31mValueError\u001b[0m: invalid literal for int() with base 10: '3.14'"
     ]
    }
   ],
   "source": [
    "int(\"3.14\")"
   ]
  },
  {
   "cell_type": "code",
   "execution_count": 29,
   "id": "c080bb28",
   "metadata": {
    "ExecuteTime": {
     "end_time": "2023-06-08T07:21:09.513054Z",
     "start_time": "2023-06-08T07:21:09.493024Z"
    }
   },
   "outputs": [
    {
     "ename": "ValueError",
     "evalue": "invalid literal for int() with base 10: '2,2'",
     "output_type": "error",
     "traceback": [
      "\u001b[0;31m---------------------------------------------------------------------------\u001b[0m",
      "\u001b[0;31mValueError\u001b[0m                                Traceback (most recent call last)",
      "Cell \u001b[0;32mIn[29], line 1\u001b[0m\n\u001b[0;32m----> 1\u001b[0m \u001b[38;5;28;43mint\u001b[39;49m\u001b[43m(\u001b[49m\u001b[38;5;124;43m\"\u001b[39;49m\u001b[38;5;124;43m2,2\u001b[39;49m\u001b[38;5;124;43m\"\u001b[39;49m\u001b[43m)\u001b[49m\n",
      "\u001b[0;31mValueError\u001b[0m: invalid literal for int() with base 10: '2,2'"
     ]
    }
   ],
   "source": [
    "int(\"2,2\")"
   ]
  },
  {
   "cell_type": "code",
   "execution_count": 30,
   "id": "48d9f3f7",
   "metadata": {
    "ExecuteTime": {
     "end_time": "2023-06-08T12:05:06.709044Z",
     "start_time": "2023-06-08T12:05:06.702435Z"
    }
   },
   "outputs": [],
   "source": [
    "def sum_as_ints(array1):\n",
    "    summa = 0\n",
    "    for i in array1:\n",
    "        try:\n",
    "            summa += int(i)\n",
    "        except ValueError:\n",
    "            continue\n",
    "    return summa"
   ]
  },
  {
   "cell_type": "code",
   "execution_count": 31,
   "id": "60650c17",
   "metadata": {
    "ExecuteTime": {
     "end_time": "2023-06-08T12:05:24.881319Z",
     "start_time": "2023-06-08T12:05:24.876954Z"
    }
   },
   "outputs": [
    {
     "data": {
      "text/plain": [
       "7"
      ]
     },
     "execution_count": 31,
     "metadata": {},
     "output_type": "execute_result"
    }
   ],
   "source": [
    "sum_as_ints([1,2,4,'dsg','1.2','1,3'])"
   ]
  },
  {
   "cell_type": "markdown",
   "id": "4222bacc",
   "metadata": {
    "ExecuteTime": {
     "end_time": "2023-06-08T12:06:29.082712Z",
     "start_time": "2023-06-08T12:06:29.078643Z"
    }
   },
   "source": [
    "# 8\n",
    "> Ссылочная модель данных\n",
    "\n",
    "Это задание стоит делать строго в том порядке, в котором оно в LMS.\n",
    "\n",
    "Вы — тех. директор на сложном проекте, и перед вами встала задача развернуть список. Вы поручили эту задачу коллеге.\n",
    "\n",
    "У вас в команде принята практика код-ревью — процедура, где другой программист смотрит код перед тем, как его слить в общую кодовую базу. Код-ревью полезно проводить, так как это позволяет отловить ошибки, опечатки, следить за читаемостью кода (взгляд со стороны не будет «замыленным»), а также держать коллег в курсе новых изменений проекта.\n",
    "\n",
    "Вам на код-ревью поступила такая реализация функции для разворота списка. Ваш коллега не очень любит срезы, поэтому он написал несколько элегантнее: поскольку pop() всегда возвращает последний элемент, можно его использовать для прочтения списка с конца:"
   ]
  },
  {
   "cell_type": "code",
   "execution_count": 34,
   "id": "379938eb",
   "metadata": {
    "ExecuteTime": {
     "end_time": "2023-06-08T12:16:19.464286Z",
     "start_time": "2023-06-08T12:16:19.460737Z"
    }
   },
   "outputs": [],
   "source": [
    "def reversed_(array):\n",
    "    rv = []\n",
    "    while array:\n",
    "        rv.append(array.pop())\n",
    "    return rv"
   ]
  },
  {
   "cell_type": "markdown",
   "id": "0bcbfa81",
   "metadata": {},
   "source": [
    "Вы тестируете этот код и хотите проверить следующее свойство: если дважды применить эту функцию, то ничего не изменится. Для этого вы пишете проверочный код:"
   ]
  },
  {
   "cell_type": "code",
   "execution_count": 35,
   "id": "f3e7ed2f",
   "metadata": {
    "ExecuteTime": {
     "end_time": "2023-06-08T12:16:24.315636Z",
     "start_time": "2023-06-08T12:16:24.311950Z"
    }
   },
   "outputs": [
    {
     "name": "stdout",
     "output_type": "stream",
     "text": [
      "Все хорошо\n"
     ]
    }
   ],
   "source": [
    "if reversed_(reversed_([1, 2, 3])) == [1, 2, 3]:\n",
    "    print(\"Все хорошо\")\n",
    "else:\n",
    "    raise RuntimeError(\"Ошибка, после обращения дважды не получается исходный массив!\")"
   ]
  },
  {
   "cell_type": "markdown",
   "id": "1b2a936b",
   "metadata": {},
   "source": [
    "Вы замечаете, что повторяете самого себя: массив [1, 2, 3] написан дважды! Кажется, его лучше вынести в переменную:"
   ]
  },
  {
   "cell_type": "code",
   "execution_count": 36,
   "id": "4639a389",
   "metadata": {
    "ExecuteTime": {
     "end_time": "2023-06-08T12:16:28.912114Z",
     "start_time": "2023-06-08T12:16:28.890113Z"
    }
   },
   "outputs": [
    {
     "ename": "RuntimeError",
     "evalue": "Ошибка, после обращения дважды не получается исходный массив!",
     "output_type": "error",
     "traceback": [
      "\u001b[0;31m---------------------------------------------------------------------------\u001b[0m",
      "\u001b[0;31mRuntimeError\u001b[0m                              Traceback (most recent call last)",
      "Cell \u001b[0;32mIn[36], line 5\u001b[0m\n\u001b[1;32m      3\u001b[0m     \u001b[38;5;28mprint\u001b[39m(\u001b[38;5;124m\"\u001b[39m\u001b[38;5;124mВсе хорошо\u001b[39m\u001b[38;5;124m\"\u001b[39m)\n\u001b[1;32m      4\u001b[0m \u001b[38;5;28;01melse\u001b[39;00m:\n\u001b[0;32m----> 5\u001b[0m     \u001b[38;5;28;01mraise\u001b[39;00m \u001b[38;5;167;01mRuntimeError\u001b[39;00m(\u001b[38;5;124m\"\u001b[39m\u001b[38;5;124mОшибка, после обращения дважды не получается исходный массив!\u001b[39m\u001b[38;5;124m\"\u001b[39m)\n",
      "\u001b[0;31mRuntimeError\u001b[0m: Ошибка, после обращения дважды не получается исходный массив!"
     ]
    }
   ],
   "source": [
    "arr = [1, 2, 3]\n",
    "if reversed_(reversed_(arr)) == arr:\n",
    "    print(\"Все хорошо\")\n",
    "else:\n",
    "    raise RuntimeError(\"Ошибка, после обращения дважды не получается исходный массив!\")"
   ]
  },
  {
   "cell_type": "markdown",
   "id": "2a9e5d8e",
   "metadata": {},
   "source": [
    "Прочитайте внимательно и подумайте (не запуская код), как поведут себя оба варианта проверочного кода. Если на глаз ничего не замечается, можете запустить этот код в Jupyter. Попробуйте объяснить результат."
   ]
  },
  {
   "cell_type": "markdown",
   "id": "6e380e75",
   "metadata": {},
   "source": [
    "# 9\n",
    "> Ссылочная модель данных\n",
    "\n",
    "Напишите реализацию reversed_, в которой не будет проблемы из прошлого пункта.\n",
    "\n",
    "Оба варианта проверочного кода должны выдать Все хорошо.\n",
    "\n",
    "Проверочный код:"
   ]
  },
  {
   "cell_type": "code",
   "execution_count": 42,
   "id": "6866ff18",
   "metadata": {
    "ExecuteTime": {
     "end_time": "2023-06-08T12:21:19.221165Z",
     "start_time": "2023-06-08T12:21:19.217588Z"
    }
   },
   "outputs": [
    {
     "name": "stdout",
     "output_type": "stream",
     "text": [
      "Все хорошо\n"
     ]
    }
   ],
   "source": [
    "if reversed_(reversed_([1, 2, 3])) == [1, 2, 3]:\n",
    "    print(\"Все хорошо\")\n",
    "else:\n",
    "    raise RuntimeError(\"Ошибка, после обращения дважды не получается исходный массив!\")"
   ]
  },
  {
   "cell_type": "code",
   "execution_count": 41,
   "id": "f16e2eae",
   "metadata": {
    "ExecuteTime": {
     "end_time": "2023-06-08T12:21:18.042677Z",
     "start_time": "2023-06-08T12:21:18.039159Z"
    }
   },
   "outputs": [
    {
     "name": "stdout",
     "output_type": "stream",
     "text": [
      "Все хорошо\n"
     ]
    }
   ],
   "source": [
    "arr = [1, 2, 3]\n",
    "if reversed_(reversed_(arr)) == arr:\n",
    "    print(\"Все хорошо\")\n",
    "else:\n",
    "    raise RuntimeError(\"Ошибка, после обращения дважды не получается исходный массив!\")"
   ]
  },
  {
   "cell_type": "code",
   "execution_count": 37,
   "id": "4534a664",
   "metadata": {
    "ExecuteTime": {
     "end_time": "2023-06-08T12:20:52.568682Z",
     "start_time": "2023-06-08T12:20:52.564729Z"
    }
   },
   "outputs": [],
   "source": [
    "def reversed_(arra):\n",
    "    rv = []\n",
    "    array = arra.copy()\n",
    "    while array:\n",
    "        rv.append(array.pop())\n",
    "    return rv"
   ]
  },
  {
   "cell_type": "code",
   "execution_count": 40,
   "id": "95f65b04",
   "metadata": {
    "ExecuteTime": {
     "end_time": "2023-06-08T12:21:14.803794Z",
     "start_time": "2023-06-08T12:21:14.800874Z"
    }
   },
   "outputs": [],
   "source": [
    "def reversed_(array):\n",
    "    array = array[::-1]\n",
    "    return array"
   ]
  },
  {
   "cell_type": "markdown",
   "id": "0b61d9e2",
   "metadata": {},
   "source": [
    "# 10\n",
    "> Срезы\n",
    "\n",
    "В этом задании Вам понадобится написать функцию find_substr,  которая принимает на вход два аргумента: подстроку (любой длины) и строку, в которой нужно ее искать, и возвращает кортеж, представляющий собой пару [start, stop) первой позиции, где найдено слово.\n",
    "\n",
    "NB! Обратите внимание на скобки\n",
    "\n",
    "Например:\n",
    "\n",
    "find_substr(\"мы\", \"Летом мы хотим отдыхать на море\")\n",
    "\n",
    "Output:\n",
    "\n",
    "(6, 8) \n",
    "\n",
    "find_substr(\"ма\", \"маленькая машина\")\n",
    "\n",
    "Output:\n",
    "\n",
    "(0, 2)"
   ]
  },
  {
   "cell_type": "code",
   "execution_count": 47,
   "id": "ae0d84ab",
   "metadata": {
    "ExecuteTime": {
     "end_time": "2023-06-08T15:01:12.527440Z",
     "start_time": "2023-06-08T15:01:12.523446Z"
    }
   },
   "outputs": [
    {
     "data": {
      "text/plain": [
       "(6, 8)"
      ]
     },
     "execution_count": 47,
     "metadata": {},
     "output_type": "execute_result"
    }
   ],
   "source": [
    "find_substr(\"мы\", \"Летом мы хотим отдыхать на море\")"
   ]
  },
  {
   "cell_type": "code",
   "execution_count": 48,
   "id": "51d37bea",
   "metadata": {
    "ExecuteTime": {
     "end_time": "2023-06-08T15:01:24.452155Z",
     "start_time": "2023-06-08T15:01:24.448102Z"
    }
   },
   "outputs": [
    {
     "data": {
      "text/plain": [
       "(0, 2)"
      ]
     },
     "execution_count": 48,
     "metadata": {},
     "output_type": "execute_result"
    }
   ],
   "source": [
    "find_substr(\"ма\", \"маленькая машина\")"
   ]
  },
  {
   "cell_type": "code",
   "execution_count": 49,
   "id": "db1a902a",
   "metadata": {
    "ExecuteTime": {
     "end_time": "2023-06-08T15:02:05.829243Z",
     "start_time": "2023-06-08T15:02:05.825574Z"
    }
   },
   "outputs": [],
   "source": [
    "def find_substr(substr, str1):\n",
    "    for i in range(len(str1) - len(substr)+1):\n",
    "        if (substr == str1[i:i+len(substr)]):\n",
    "            number = i\n",
    "            break \n",
    "    return (i, i+len(substr))"
   ]
  },
  {
   "cell_type": "markdown",
   "id": "984d0763",
   "metadata": {},
   "source": [
    "# 11\n",
    "> Срезы\n",
    "\n",
    "В этом задании вам потребуется написать функцию fifth_element, которая берет каждый пятый элемент списка в обратном порядке, начиная с пятого с конца и возвращает .\n",
    "\n",
    "Пример, как должна выглядить функция для сдачи задания\n",
    "\n",
    "def fifth_element(some_list: list) -> list:\n",
    "    ...\n",
    "    \n",
    "\n",
    "\n",
    "Конструкция -> list в этом примере определяет тип возвращаемого значения. Это означает, что на выходе функции мы ожидаем получить список. Это называется аннотацией типов в Python, подробнее можно почитать об этом здесь.\n",
    "\n",
    "Не в качестве ответа на задачу, а для самопроверки, попробуйте использовать написанную вами функцию fifth_element для расшифровки следующего кода: \n",
    "\n",
    "['e',6,8,'A','>','^','S','$','R','C',6,'+','#',9,'/',1,'T','!','%','K',7,'-','O','*','<',2,'h',4,'g']"
   ]
  },
  {
   "cell_type": "code",
   "execution_count": 50,
   "id": "406c7a92",
   "metadata": {
    "ExecuteTime": {
     "end_time": "2023-06-08T15:11:33.402974Z",
     "start_time": "2023-06-08T15:11:33.400167Z"
    }
   },
   "outputs": [],
   "source": [
    "def fifth_element(some_list):\n",
    "    return some_list[-5:0:-5]"
   ]
  },
  {
   "cell_type": "code",
   "execution_count": 51,
   "id": "371ed8ee",
   "metadata": {
    "ExecuteTime": {
     "end_time": "2023-06-08T15:11:43.791778Z",
     "start_time": "2023-06-08T15:11:43.784441Z"
    }
   },
   "outputs": [
    {
     "data": {
      "text/plain": [
       "['<', 'K', '/', 'C', '>']"
      ]
     },
     "execution_count": 51,
     "metadata": {},
     "output_type": "execute_result"
    }
   ],
   "source": [
    "fifth_element(['e',6,8,'A','>','^','S','$','R','C',6,'+','#',9,'/',1,'T','!','%','K',7,'-','O','*','<',2,'h',4,'g'])"
   ]
  },
  {
   "cell_type": "markdown",
   "id": "249bdcb3",
   "metadata": {},
   "source": [
    "# 12\n",
    "> Строки\n",
    "\n",
    "В этом задании потребуется написать функцию process_string, которая приводит строку[1:] к нижнему регистру и заменяет все слова 'intern' на 'junior'."
   ]
  },
  {
   "cell_type": "code",
   "execution_count": 55,
   "id": "5ddcc114",
   "metadata": {
    "ExecuteTime": {
     "end_time": "2023-06-08T15:15:29.004169Z",
     "start_time": "2023-06-08T15:15:28.997868Z"
    }
   },
   "outputs": [
    {
     "data": {
      "text/plain": [
       "'junior reads a lot of books'"
      ]
     },
     "execution_count": 55,
     "metadata": {},
     "output_type": "execute_result"
    }
   ],
   "source": [
    "def process_string(string):\n",
    "    result = string[1:].lower()\n",
    "    result = result.replace('intern','junior')\n",
    "    return result\n",
    "\n",
    "process_string('IIntern reads a lot of books')"
   ]
  },
  {
   "cell_type": "markdown",
   "id": "d8a906c7",
   "metadata": {
    "ExecuteTime": {
     "end_time": "2023-06-08T15:14:45.776292Z",
     "start_time": "2023-06-08T15:14:45.753801Z"
    }
   },
   "source": [
    "# 13\n",
    "> Строки\n",
    "\n",
    "В этом задании необходимо написать функцию check_string, которая сначала проверят наличие лишних символов пробела слева и справа. Если есть лишние пробелы, то тогда мы считаем строку неверной. Затем проверяет, что только первое слово начинается с большой буквы, а остальные с маленькой, и в конце проводит проверку, что последний символ последнего элемента является точкой."
   ]
  },
  {
   "cell_type": "code",
   "execution_count": 57,
   "id": "5a7c6086",
   "metadata": {
    "ExecuteTime": {
     "end_time": "2023-06-08T19:16:50.378787Z",
     "start_time": "2023-06-08T19:16:50.374186Z"
    }
   },
   "outputs": [],
   "source": [
    "def check_string(string):\n",
    "    if (len(string) == len(string.strip()) and (string[1:] == string[1:].lower()) and (string[-1] == '.')):\n",
    "        return True\n",
    "    else:\n",
    "        return False "
   ]
  },
  {
   "cell_type": "code",
   "execution_count": 60,
   "id": "4c68c442",
   "metadata": {
    "ExecuteTime": {
     "end_time": "2023-06-08T19:17:46.779834Z",
     "start_time": "2023-06-08T19:17:46.775937Z"
    }
   },
   "outputs": [
    {
     "name": "stdout",
     "output_type": "stream",
     "text": [
      "True\n",
      "False\n",
      "False\n",
      "False\n"
     ]
    }
   ],
   "source": [
    "print(check_string('В этом году будет особенно теплое море.'))\n",
    "print(check_string('В этом году будет особенно теплое Mоре.'))\n",
    "print(check_string('В этом году будет особенно теплое море'))\n",
    "print(check_string(' В этом году будет особенно теплое море'))"
   ]
  },
  {
   "cell_type": "code",
   "execution_count": 61,
   "id": "787ef4f8",
   "metadata": {
    "ExecuteTime": {
     "end_time": "2023-06-08T19:18:24.846567Z",
     "start_time": "2023-06-08T19:18:24.841759Z"
    }
   },
   "outputs": [
    {
     "data": {
      "text/plain": [
       "'В этом году будет особенно теплое море.'"
      ]
     },
     "execution_count": 61,
     "metadata": {},
     "output_type": "execute_result"
    }
   ],
   "source": [
    "'В этом году будет особенно теплое море.'.strip()"
   ]
  },
  {
   "cell_type": "code",
   "execution_count": null,
   "id": "2458775f",
   "metadata": {},
   "outputs": [],
   "source": []
  }
 ],
 "metadata": {
  "kernelspec": {
   "display_name": "Python 3 (ipykernel)",
   "language": "python",
   "name": "python3"
  },
  "language_info": {
   "codemirror_mode": {
    "name": "ipython",
    "version": 3
   },
   "file_extension": ".py",
   "mimetype": "text/x-python",
   "name": "python",
   "nbconvert_exporter": "python",
   "pygments_lexer": "ipython3",
   "version": "3.10.9"
  }
 },
 "nbformat": 4,
 "nbformat_minor": 5
}
